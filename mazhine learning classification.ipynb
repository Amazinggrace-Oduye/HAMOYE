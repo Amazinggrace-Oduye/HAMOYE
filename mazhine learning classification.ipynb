{
 "cells": [
  {
   "cell_type": "markdown",
   "metadata": {},
   "source": [
    "Linear Classification and Logistic Regression.py"
   ]
  },
  {
   "cell_type": "markdown",
   "metadata": {},
   "source": [
    "**step1--> import your classes and read your data**"
   ]
  },
  {
   "cell_type": "code",
   "execution_count": 394,
   "metadata": {},
   "outputs": [],
   "source": [
    "import pandas as pd\n",
    "import numpy as np"
   ]
  },
  {
   "cell_type": "code",
   "execution_count": 395,
   "metadata": {},
   "outputs": [
    {
     "name": "stderr",
     "output_type": "stream",
     "text": [
      "C:\\ProgramData\\Anaconda3\\lib\\site-packages\\IPython\\core\\interactiveshell.py:3063: DtypeWarning: Columns (6) have mixed types.Specify dtype option on import or set low_memory=False.\n",
      "  interactivity=interactivity, compiler=compiler, result=result)\n"
     ]
    }
   ],
   "source": [
    "df = pd.read_csv('https://query.data.world/s/wh6j7rxy2hvrn4ml75ci62apk5hgae')"
   ]
  },
  {
   "cell_type": "code",
   "execution_count": 396,
   "metadata": {
    "scrolled": true
   },
   "outputs": [
    {
     "data": {
      "text/html": [
       "<div>\n",
       "<style scoped>\n",
       "    .dataframe tbody tr th:only-of-type {\n",
       "        vertical-align: middle;\n",
       "    }\n",
       "\n",
       "    .dataframe tbody tr th {\n",
       "        vertical-align: top;\n",
       "    }\n",
       "\n",
       "    .dataframe thead th {\n",
       "        text-align: right;\n",
       "    }\n",
       "</style>\n",
       "<table border=\"1\" class=\"dataframe\">\n",
       "  <thead>\n",
       "    <tr style=\"text-align: right;\">\n",
       "      <th></th>\n",
       "      <th>country</th>\n",
       "      <th>year</th>\n",
       "      <th>country_code</th>\n",
       "      <th>record</th>\n",
       "      <th>crop_land</th>\n",
       "      <th>grazing_land</th>\n",
       "      <th>forest_land</th>\n",
       "      <th>fishing_ground</th>\n",
       "      <th>built_up_land</th>\n",
       "      <th>carbon</th>\n",
       "      <th>total</th>\n",
       "      <th>QScore</th>\n",
       "    </tr>\n",
       "  </thead>\n",
       "  <tbody>\n",
       "    <tr>\n",
       "      <th>0</th>\n",
       "      <td>Armenia</td>\n",
       "      <td>1992</td>\n",
       "      <td>1</td>\n",
       "      <td>AreaPerCap</td>\n",
       "      <td>1.402924e-01</td>\n",
       "      <td>1.995463e-01</td>\n",
       "      <td>0.097188051</td>\n",
       "      <td>3.688847e-02</td>\n",
       "      <td>2.931995e-02</td>\n",
       "      <td>0.000000e+00</td>\n",
       "      <td>5.032351e-01</td>\n",
       "      <td>3A</td>\n",
       "    </tr>\n",
       "    <tr>\n",
       "      <th>1</th>\n",
       "      <td>Armenia</td>\n",
       "      <td>1992</td>\n",
       "      <td>1</td>\n",
       "      <td>AreaTotHA</td>\n",
       "      <td>4.830000e+05</td>\n",
       "      <td>6.870000e+05</td>\n",
       "      <td>334600</td>\n",
       "      <td>1.270000e+05</td>\n",
       "      <td>1.009430e+05</td>\n",
       "      <td>0.000000e+00</td>\n",
       "      <td>1.732543e+06</td>\n",
       "      <td>3A</td>\n",
       "    </tr>\n",
       "    <tr>\n",
       "      <th>2</th>\n",
       "      <td>Armenia</td>\n",
       "      <td>1992</td>\n",
       "      <td>1</td>\n",
       "      <td>BiocapPerCap</td>\n",
       "      <td>1.598044e-01</td>\n",
       "      <td>1.352610e-01</td>\n",
       "      <td>0.084003213</td>\n",
       "      <td>1.374213e-02</td>\n",
       "      <td>3.339780e-02</td>\n",
       "      <td>0.000000e+00</td>\n",
       "      <td>4.262086e-01</td>\n",
       "      <td>3A</td>\n",
       "    </tr>\n",
       "    <tr>\n",
       "      <th>3</th>\n",
       "      <td>Armenia</td>\n",
       "      <td>1992</td>\n",
       "      <td>1</td>\n",
       "      <td>BiocapTotGHA</td>\n",
       "      <td>5.501762e+05</td>\n",
       "      <td>4.656780e+05</td>\n",
       "      <td>289207.1078</td>\n",
       "      <td>4.731155e+04</td>\n",
       "      <td>1.149823e+05</td>\n",
       "      <td>0.000000e+00</td>\n",
       "      <td>1.467355e+06</td>\n",
       "      <td>3A</td>\n",
       "    </tr>\n",
       "    <tr>\n",
       "      <th>4</th>\n",
       "      <td>Armenia</td>\n",
       "      <td>1992</td>\n",
       "      <td>1</td>\n",
       "      <td>EFConsPerCap</td>\n",
       "      <td>3.875102e-01</td>\n",
       "      <td>1.894622e-01</td>\n",
       "      <td>1.26E-06</td>\n",
       "      <td>4.164833e-03</td>\n",
       "      <td>3.339780e-02</td>\n",
       "      <td>1.114093e+00</td>\n",
       "      <td>1.728629e+00</td>\n",
       "      <td>3A</td>\n",
       "    </tr>\n",
       "    <tr>\n",
       "      <th>...</th>\n",
       "      <td>...</td>\n",
       "      <td>...</td>\n",
       "      <td>...</td>\n",
       "      <td>...</td>\n",
       "      <td>...</td>\n",
       "      <td>...</td>\n",
       "      <td>...</td>\n",
       "      <td>...</td>\n",
       "      <td>...</td>\n",
       "      <td>...</td>\n",
       "      <td>...</td>\n",
       "      <td>...</td>\n",
       "    </tr>\n",
       "    <tr>\n",
       "      <th>72181</th>\n",
       "      <td>World</td>\n",
       "      <td>2016</td>\n",
       "      <td>5001</td>\n",
       "      <td>BiocapTotGHA</td>\n",
       "      <td>3.984702e+09</td>\n",
       "      <td>1.504757e+09</td>\n",
       "      <td>5.11176e+09</td>\n",
       "      <td>1.095445e+09</td>\n",
       "      <td>4.726163e+08</td>\n",
       "      <td>0.000000e+00</td>\n",
       "      <td>1.216928e+10</td>\n",
       "      <td>3A</td>\n",
       "    </tr>\n",
       "    <tr>\n",
       "      <th>72182</th>\n",
       "      <td>World</td>\n",
       "      <td>2016</td>\n",
       "      <td>5001</td>\n",
       "      <td>EFConsPerCap</td>\n",
       "      <td>5.336445e-01</td>\n",
       "      <td>1.402092e-01</td>\n",
       "      <td>0.273495</td>\n",
       "      <td>8.974253e-02</td>\n",
       "      <td>6.329435e-02</td>\n",
       "      <td>1.646235e+00</td>\n",
       "      <td>2.746619e+00</td>\n",
       "      <td>3A</td>\n",
       "    </tr>\n",
       "    <tr>\n",
       "      <th>72183</th>\n",
       "      <td>World</td>\n",
       "      <td>2016</td>\n",
       "      <td>5001</td>\n",
       "      <td>EFConsTotGHA</td>\n",
       "      <td>3.984702e+09</td>\n",
       "      <td>1.046937e+09</td>\n",
       "      <td>2.04218e+09</td>\n",
       "      <td>6.701039e+08</td>\n",
       "      <td>4.726163e+08</td>\n",
       "      <td>1.229237e+10</td>\n",
       "      <td>2.050891e+10</td>\n",
       "      <td>3A</td>\n",
       "    </tr>\n",
       "    <tr>\n",
       "      <th>72184</th>\n",
       "      <td>World</td>\n",
       "      <td>2016</td>\n",
       "      <td>5001</td>\n",
       "      <td>EFProdPerCap</td>\n",
       "      <td>5.336445e-01</td>\n",
       "      <td>1.402092e-01</td>\n",
       "      <td>0.273495</td>\n",
       "      <td>8.974253e-02</td>\n",
       "      <td>6.329435e-02</td>\n",
       "      <td>1.646235e+00</td>\n",
       "      <td>2.746619e+00</td>\n",
       "      <td>3A</td>\n",
       "    </tr>\n",
       "    <tr>\n",
       "      <th>72185</th>\n",
       "      <td>World</td>\n",
       "      <td>2016</td>\n",
       "      <td>5001</td>\n",
       "      <td>EFProdTotGHA</td>\n",
       "      <td>3.984702e+09</td>\n",
       "      <td>1.046937e+09</td>\n",
       "      <td>2.04218e+09</td>\n",
       "      <td>6.701039e+08</td>\n",
       "      <td>4.726163e+08</td>\n",
       "      <td>1.229237e+10</td>\n",
       "      <td>2.050891e+10</td>\n",
       "      <td>3A</td>\n",
       "    </tr>\n",
       "  </tbody>\n",
       "</table>\n",
       "<p>72186 rows × 12 columns</p>\n",
       "</div>"
      ],
      "text/plain": [
       "       country  year  country_code        record     crop_land  grazing_land  \\\n",
       "0      Armenia  1992             1    AreaPerCap  1.402924e-01  1.995463e-01   \n",
       "1      Armenia  1992             1     AreaTotHA  4.830000e+05  6.870000e+05   \n",
       "2      Armenia  1992             1  BiocapPerCap  1.598044e-01  1.352610e-01   \n",
       "3      Armenia  1992             1  BiocapTotGHA  5.501762e+05  4.656780e+05   \n",
       "4      Armenia  1992             1  EFConsPerCap  3.875102e-01  1.894622e-01   \n",
       "...        ...   ...           ...           ...           ...           ...   \n",
       "72181    World  2016          5001  BiocapTotGHA  3.984702e+09  1.504757e+09   \n",
       "72182    World  2016          5001  EFConsPerCap  5.336445e-01  1.402092e-01   \n",
       "72183    World  2016          5001  EFConsTotGHA  3.984702e+09  1.046937e+09   \n",
       "72184    World  2016          5001  EFProdPerCap  5.336445e-01  1.402092e-01   \n",
       "72185    World  2016          5001  EFProdTotGHA  3.984702e+09  1.046937e+09   \n",
       "\n",
       "       forest_land  fishing_ground  built_up_land        carbon         total  \\\n",
       "0      0.097188051    3.688847e-02   2.931995e-02  0.000000e+00  5.032351e-01   \n",
       "1           334600    1.270000e+05   1.009430e+05  0.000000e+00  1.732543e+06   \n",
       "2      0.084003213    1.374213e-02   3.339780e-02  0.000000e+00  4.262086e-01   \n",
       "3      289207.1078    4.731155e+04   1.149823e+05  0.000000e+00  1.467355e+06   \n",
       "4         1.26E-06    4.164833e-03   3.339780e-02  1.114093e+00  1.728629e+00   \n",
       "...            ...             ...            ...           ...           ...   \n",
       "72181  5.11176e+09    1.095445e+09   4.726163e+08  0.000000e+00  1.216928e+10   \n",
       "72182     0.273495    8.974253e-02   6.329435e-02  1.646235e+00  2.746619e+00   \n",
       "72183  2.04218e+09    6.701039e+08   4.726163e+08  1.229237e+10  2.050891e+10   \n",
       "72184     0.273495    8.974253e-02   6.329435e-02  1.646235e+00  2.746619e+00   \n",
       "72185  2.04218e+09    6.701039e+08   4.726163e+08  1.229237e+10  2.050891e+10   \n",
       "\n",
       "      QScore  \n",
       "0         3A  \n",
       "1         3A  \n",
       "2         3A  \n",
       "3         3A  \n",
       "4         3A  \n",
       "...      ...  \n",
       "72181     3A  \n",
       "72182     3A  \n",
       "72183     3A  \n",
       "72184     3A  \n",
       "72185     3A  \n",
       "\n",
       "[72186 rows x 12 columns]"
      ]
     },
     "execution_count": 396,
     "metadata": {},
     "output_type": "execute_result"
    }
   ],
   "source": [
    "df"
   ]
  },
  {
   "cell_type": "markdown",
   "metadata": {},
   "source": [
    "**step2--> explore data and drop nan**"
   ]
  },
  {
   "cell_type": "code",
   "execution_count": 397,
   "metadata": {},
   "outputs": [
    {
     "data": {
      "text/plain": [
       "QScore\n",
       "1A       16\n",
       "1B       16\n",
       "2A    10576\n",
       "2B    10096\n",
       "3A    51481\n",
       "Name: country, dtype: int64"
      ]
     },
     "execution_count": 397,
     "metadata": {},
     "output_type": "execute_result"
    }
   ],
   "source": [
    "df.groupby('QScore')['country'].count()"
   ]
  },
  {
   "cell_type": "code",
   "execution_count": 398,
   "metadata": {},
   "outputs": [
    {
     "data": {
      "text/plain": [
       "Gabon              448\n",
       "Angola             448\n",
       "Greece             448\n",
       "Japan              448\n",
       "Djibouti           448\n",
       "                  ... \n",
       "Sudan               48\n",
       "Montserrat           8\n",
       "Belize               8\n",
       "Solomon Islands      8\n",
       "Cook Islands         8\n",
       "Name: country, Length: 193, dtype: int64"
      ]
     },
     "execution_count": 398,
     "metadata": {},
     "output_type": "execute_result"
    }
   ],
   "source": [
    "df['country'].value_counts()"
   ]
  },
  {
   "cell_type": "code",
   "execution_count": 399,
   "metadata": {},
   "outputs": [],
   "source": [
    "new_df=df.groupby(['year','QScore'])['country'].sum().loc[1992]"
   ]
  },
  {
   "cell_type": "code",
   "execution_count": 400,
   "metadata": {},
   "outputs": [
    {
     "data": {
      "text/plain": [
       "QScore\n",
       "2A    AlgeriaAlgeriaAlgeriaAlgeriaAlgeriaAlgeriaAlge...\n",
       "2B    Antigua and BarbudaAntigua and BarbudaAntigua ...\n",
       "3A    ArmeniaArmeniaArmeniaArmeniaArmeniaArmeniaArme...\n",
       "Name: country, dtype: object"
      ]
     },
     "execution_count": 400,
     "metadata": {},
     "output_type": "execute_result"
    }
   ],
   "source": [
    "new_df"
   ]
  },
  {
   "cell_type": "markdown",
   "metadata": {},
   "source": [
    "#check distribution of target variable"
   ]
  },
  {
   "cell_type": "code",
   "execution_count": 401,
   "metadata": {},
   "outputs": [
    {
     "data": {
      "text/plain": [
       "3A    51481\n",
       "2A    10576\n",
       "2B    10096\n",
       "1A       16\n",
       "1B       16\n",
       "Name: QScore, dtype: int64"
      ]
     },
     "execution_count": 401,
     "metadata": {},
     "output_type": "execute_result"
    }
   ],
   "source": [
    "df['QScore'].value_counts()"
   ]
  },
  {
   "cell_type": "code",
   "execution_count": 402,
   "metadata": {},
   "outputs": [
    {
     "data": {
      "text/plain": [
       "country               0\n",
       "year                  0\n",
       "country_code          0\n",
       "record                0\n",
       "crop_land         20472\n",
       "grazing_land      20472\n",
       "forest_land       20472\n",
       "fishing_ground    20473\n",
       "built_up_land     20473\n",
       "carbon            20473\n",
       "total                 9\n",
       "QScore                1\n",
       "dtype: int64"
      ]
     },
     "execution_count": 402,
     "metadata": {},
     "output_type": "execute_result"
    }
   ],
   "source": [
    "df.isna().sum()"
   ]
  },
  {
   "cell_type": "code",
   "execution_count": 403,
   "metadata": {},
   "outputs": [],
   "source": [
    "#for simplicity, we will drop the rows with missing values.\n",
    "df = df.dropna()\n"
   ]
  },
  {
   "cell_type": "code",
   "execution_count": 404,
   "metadata": {},
   "outputs": [
    {
     "data": {
      "text/plain": [
       "country           0\n",
       "year              0\n",
       "country_code      0\n",
       "record            0\n",
       "crop_land         0\n",
       "grazing_land      0\n",
       "forest_land       0\n",
       "fishing_ground    0\n",
       "built_up_land     0\n",
       "carbon            0\n",
       "total             0\n",
       "QScore            0\n",
       "dtype: int64"
      ]
     },
     "execution_count": 404,
     "metadata": {},
     "output_type": "execute_result"
    }
   ],
   "source": [
    "df.isna().sum()"
   ]
  },
  {
   "cell_type": "markdown",
   "metadata": {},
   "source": [
    "#An obvious change in our target variable after removing the missing values is that there are only three classes left #and from the distribution of the 3 classes, we can see that there is an obvious imbalance between the classes. #There are methods that can be applied to handle this imbalance such as oversampling and undersampling.\n",
    "#Oversampling involves increasing the number of instances in the class with fewer instances while undersampling #involves reducing the data points in the class with more instances.\n",
    "#For now, we will convert this to a binary classification problem by combining class '2A' and '1A'."
   ]
  },
  {
   "cell_type": "markdown",
   "metadata": {},
   "source": [
    "**step3--> check target variable for balance, if not carry out #Oversampling nd undersampling**"
   ]
  },
  {
   "cell_type": "code",
   "execution_count": 405,
   "metadata": {},
   "outputs": [
    {
     "data": {
      "text/plain": [
       "3A    51473\n",
       "2A      224\n",
       "1A       16\n",
       "Name: QScore, dtype: int64"
      ]
     },
     "execution_count": 405,
     "metadata": {},
     "output_type": "execute_result"
    }
   ],
   "source": [
    "df['QScore'].value_counts()"
   ]
  },
  {
   "cell_type": "code",
   "execution_count": 406,
   "metadata": {},
   "outputs": [
    {
     "name": "stderr",
     "output_type": "stream",
     "text": [
      "C:\\ProgramData\\Anaconda3\\lib\\site-packages\\ipykernel_launcher.py:1: SettingWithCopyWarning: \n",
      "A value is trying to be set on a copy of a slice from a DataFrame.\n",
      "Try using .loc[row_indexer,col_indexer] = value instead\n",
      "\n",
      "See the caveats in the documentation: https://pandas.pydata.org/pandas-docs/stable/user_guide/indexing.html#returning-a-view-versus-a-copy\n",
      "  \"\"\"Entry point for launching an IPython kernel.\n"
     ]
    }
   ],
   "source": [
    "df['QScore'] = df['QScore'].replace(['1A'], '2A')    #Oversampling"
   ]
  },
  {
   "cell_type": "code",
   "execution_count": 407,
   "metadata": {},
   "outputs": [
    {
     "data": {
      "text/plain": [
       "3A    51473\n",
       "2A      240\n",
       "Name: QScore, dtype: int64"
      ]
     },
     "execution_count": 407,
     "metadata": {},
     "output_type": "execute_result"
    }
   ],
   "source": [
    "df.QScore.value_counts()"
   ]
  },
  {
   "cell_type": "code",
   "execution_count": 408,
   "metadata": {},
   "outputs": [
    {
     "data": {
      "text/plain": [
       "3A    51473\n",
       "2A      240\n",
       "Name: QScore, dtype: int64"
      ]
     },
     "execution_count": 408,
     "metadata": {},
     "output_type": "execute_result"
    }
   ],
   "source": [
    "df['QScore'].value_counts()"
   ]
  },
  {
   "cell_type": "code",
   "execution_count": 409,
   "metadata": {},
   "outputs": [],
   "source": [
    "df_2A = df[df.QScore=='2A']     #seprating dataframe with QScore=='2A' from QScore=='3A'"
   ]
  },
  {
   "cell_type": "code",
   "execution_count": 410,
   "metadata": {},
   "outputs": [
    {
     "data": {
      "text/html": [
       "<div>\n",
       "<style scoped>\n",
       "    .dataframe tbody tr th:only-of-type {\n",
       "        vertical-align: middle;\n",
       "    }\n",
       "\n",
       "    .dataframe tbody tr th {\n",
       "        vertical-align: top;\n",
       "    }\n",
       "\n",
       "    .dataframe thead th {\n",
       "        text-align: right;\n",
       "    }\n",
       "</style>\n",
       "<table border=\"1\" class=\"dataframe\">\n",
       "  <thead>\n",
       "    <tr style=\"text-align: right;\">\n",
       "      <th></th>\n",
       "      <th>country</th>\n",
       "      <th>year</th>\n",
       "      <th>country_code</th>\n",
       "      <th>record</th>\n",
       "      <th>crop_land</th>\n",
       "      <th>grazing_land</th>\n",
       "      <th>forest_land</th>\n",
       "      <th>fishing_ground</th>\n",
       "      <th>built_up_land</th>\n",
       "      <th>carbon</th>\n",
       "      <th>total</th>\n",
       "      <th>QScore</th>\n",
       "    </tr>\n",
       "  </thead>\n",
       "  <tbody>\n",
       "    <tr>\n",
       "      <th>1536</th>\n",
       "      <td>Algeria</td>\n",
       "      <td>2016</td>\n",
       "      <td>4</td>\n",
       "      <td>AreaPerCap</td>\n",
       "      <td>2.072989e-01</td>\n",
       "      <td>8.112722e-01</td>\n",
       "      <td>0.048357265</td>\n",
       "      <td>2.258528e-02</td>\n",
       "      <td>2.998367e-02</td>\n",
       "      <td>0.000000e+00</td>\n",
       "      <td>1.119497e+00</td>\n",
       "      <td>2A</td>\n",
       "    </tr>\n",
       "    <tr>\n",
       "      <th>1537</th>\n",
       "      <td>Algeria</td>\n",
       "      <td>2016</td>\n",
       "      <td>4</td>\n",
       "      <td>AreaTotHA</td>\n",
       "      <td>8.417600e+06</td>\n",
       "      <td>3.294260e+07</td>\n",
       "      <td>1963600</td>\n",
       "      <td>9.171000e+05</td>\n",
       "      <td>1.217520e+06</td>\n",
       "      <td>0.000000e+00</td>\n",
       "      <td>4.545842e+07</td>\n",
       "      <td>2A</td>\n",
       "    </tr>\n",
       "    <tr>\n",
       "      <th>1538</th>\n",
       "      <td>Algeria</td>\n",
       "      <td>2016</td>\n",
       "      <td>4</td>\n",
       "      <td>BiocapPerCap</td>\n",
       "      <td>2.021916e-01</td>\n",
       "      <td>2.636077e-01</td>\n",
       "      <td>0.027166736</td>\n",
       "      <td>7.947991e-03</td>\n",
       "      <td>2.924496e-02</td>\n",
       "      <td>0.000000e+00</td>\n",
       "      <td>5.301590e-01</td>\n",
       "      <td>2A</td>\n",
       "    </tr>\n",
       "    <tr>\n",
       "      <th>1539</th>\n",
       "      <td>Algeria</td>\n",
       "      <td>2016</td>\n",
       "      <td>4</td>\n",
       "      <td>BiocapTotGHA</td>\n",
       "      <td>8.210214e+06</td>\n",
       "      <td>1.070408e+07</td>\n",
       "      <td>1103135.245</td>\n",
       "      <td>3.227369e+05</td>\n",
       "      <td>1.187524e+06</td>\n",
       "      <td>0.000000e+00</td>\n",
       "      <td>2.152769e+07</td>\n",
       "      <td>2A</td>\n",
       "    </tr>\n",
       "    <tr>\n",
       "      <th>1540</th>\n",
       "      <td>Algeria</td>\n",
       "      <td>2016</td>\n",
       "      <td>4</td>\n",
       "      <td>EFConsPerCap</td>\n",
       "      <td>6.280528e-01</td>\n",
       "      <td>1.810332e-01</td>\n",
       "      <td>0.162800822</td>\n",
       "      <td>1.472910e-02</td>\n",
       "      <td>2.924496e-02</td>\n",
       "      <td>1.391455e+00</td>\n",
       "      <td>2.407316e+00</td>\n",
       "      <td>2A</td>\n",
       "    </tr>\n",
       "    <tr>\n",
       "      <th>...</th>\n",
       "      <td>...</td>\n",
       "      <td>...</td>\n",
       "      <td>...</td>\n",
       "      <td>...</td>\n",
       "      <td>...</td>\n",
       "      <td>...</td>\n",
       "      <td>...</td>\n",
       "      <td>...</td>\n",
       "      <td>...</td>\n",
       "      <td>...</td>\n",
       "      <td>...</td>\n",
       "      <td>...</td>\n",
       "    </tr>\n",
       "    <tr>\n",
       "      <th>65469</th>\n",
       "      <td>Ukraine</td>\n",
       "      <td>2016</td>\n",
       "      <td>230</td>\n",
       "      <td>BiocapTotGHA</td>\n",
       "      <td>8.966961e+07</td>\n",
       "      <td>6.457412e+06</td>\n",
       "      <td>19268322.04</td>\n",
       "      <td>6.920056e+06</td>\n",
       "      <td>3.952345e+06</td>\n",
       "      <td>0.000000e+00</td>\n",
       "      <td>1.262677e+08</td>\n",
       "      <td>2A</td>\n",
       "    </tr>\n",
       "    <tr>\n",
       "      <th>65470</th>\n",
       "      <td>Ukraine</td>\n",
       "      <td>2016</td>\n",
       "      <td>230</td>\n",
       "      <td>EFConsPerCap</td>\n",
       "      <td>1.155004e+00</td>\n",
       "      <td>1.081601e-02</td>\n",
       "      <td>0.149119494</td>\n",
       "      <td>5.150234e-02</td>\n",
       "      <td>8.893945e-02</td>\n",
       "      <td>1.453137e+00</td>\n",
       "      <td>2.908519e+00</td>\n",
       "      <td>2A</td>\n",
       "    </tr>\n",
       "    <tr>\n",
       "      <th>65471</th>\n",
       "      <td>Ukraine</td>\n",
       "      <td>2016</td>\n",
       "      <td>230</td>\n",
       "      <td>EFConsTotGHA</td>\n",
       "      <td>5.132678e+07</td>\n",
       "      <td>4.806484e+05</td>\n",
       "      <td>6626661.768</td>\n",
       "      <td>2.288692e+06</td>\n",
       "      <td>3.952345e+06</td>\n",
       "      <td>6.457538e+07</td>\n",
       "      <td>1.292505e+08</td>\n",
       "      <td>2A</td>\n",
       "    </tr>\n",
       "    <tr>\n",
       "      <th>65472</th>\n",
       "      <td>Ukraine</td>\n",
       "      <td>2016</td>\n",
       "      <td>230</td>\n",
       "      <td>EFProdPerCap</td>\n",
       "      <td>2.017831e+00</td>\n",
       "      <td>5.768143e-03</td>\n",
       "      <td>0.216720935</td>\n",
       "      <td>3.223480e-03</td>\n",
       "      <td>8.893945e-02</td>\n",
       "      <td>1.665767e+00</td>\n",
       "      <td>3.998251e+00</td>\n",
       "      <td>2A</td>\n",
       "    </tr>\n",
       "    <tr>\n",
       "      <th>65473</th>\n",
       "      <td>Ukraine</td>\n",
       "      <td>2016</td>\n",
       "      <td>230</td>\n",
       "      <td>EFProdTotGHA</td>\n",
       "      <td>8.966961e+07</td>\n",
       "      <td>2.563282e+05</td>\n",
       "      <td>9630775.281</td>\n",
       "      <td>1.432470e+05</td>\n",
       "      <td>3.952345e+06</td>\n",
       "      <td>7.402438e+07</td>\n",
       "      <td>1.776767e+08</td>\n",
       "      <td>2A</td>\n",
       "    </tr>\n",
       "  </tbody>\n",
       "</table>\n",
       "<p>240 rows × 12 columns</p>\n",
       "</div>"
      ],
      "text/plain": [
       "       country  year  country_code        record     crop_land  grazing_land  \\\n",
       "1536   Algeria  2016             4    AreaPerCap  2.072989e-01  8.112722e-01   \n",
       "1537   Algeria  2016             4     AreaTotHA  8.417600e+06  3.294260e+07   \n",
       "1538   Algeria  2016             4  BiocapPerCap  2.021916e-01  2.636077e-01   \n",
       "1539   Algeria  2016             4  BiocapTotGHA  8.210214e+06  1.070408e+07   \n",
       "1540   Algeria  2016             4  EFConsPerCap  6.280528e-01  1.810332e-01   \n",
       "...        ...   ...           ...           ...           ...           ...   \n",
       "65469  Ukraine  2016           230  BiocapTotGHA  8.966961e+07  6.457412e+06   \n",
       "65470  Ukraine  2016           230  EFConsPerCap  1.155004e+00  1.081601e-02   \n",
       "65471  Ukraine  2016           230  EFConsTotGHA  5.132678e+07  4.806484e+05   \n",
       "65472  Ukraine  2016           230  EFProdPerCap  2.017831e+00  5.768143e-03   \n",
       "65473  Ukraine  2016           230  EFProdTotGHA  8.966961e+07  2.563282e+05   \n",
       "\n",
       "       forest_land  fishing_ground  built_up_land        carbon         total  \\\n",
       "1536   0.048357265    2.258528e-02   2.998367e-02  0.000000e+00  1.119497e+00   \n",
       "1537       1963600    9.171000e+05   1.217520e+06  0.000000e+00  4.545842e+07   \n",
       "1538   0.027166736    7.947991e-03   2.924496e-02  0.000000e+00  5.301590e-01   \n",
       "1539   1103135.245    3.227369e+05   1.187524e+06  0.000000e+00  2.152769e+07   \n",
       "1540   0.162800822    1.472910e-02   2.924496e-02  1.391455e+00  2.407316e+00   \n",
       "...            ...             ...            ...           ...           ...   \n",
       "65469  19268322.04    6.920056e+06   3.952345e+06  0.000000e+00  1.262677e+08   \n",
       "65470  0.149119494    5.150234e-02   8.893945e-02  1.453137e+00  2.908519e+00   \n",
       "65471  6626661.768    2.288692e+06   3.952345e+06  6.457538e+07  1.292505e+08   \n",
       "65472  0.216720935    3.223480e-03   8.893945e-02  1.665767e+00  3.998251e+00   \n",
       "65473  9630775.281    1.432470e+05   3.952345e+06  7.402438e+07  1.776767e+08   \n",
       "\n",
       "      QScore  \n",
       "1536      2A  \n",
       "1537      2A  \n",
       "1538      2A  \n",
       "1539      2A  \n",
       "1540      2A  \n",
       "...      ...  \n",
       "65469     2A  \n",
       "65470     2A  \n",
       "65471     2A  \n",
       "65472     2A  \n",
       "65473     2A  \n",
       "\n",
       "[240 rows x 12 columns]"
      ]
     },
     "execution_count": 410,
     "metadata": {},
     "output_type": "execute_result"
    }
   ],
   "source": [
    "df_2A"
   ]
  },
  {
   "cell_type": "code",
   "execution_count": 411,
   "metadata": {},
   "outputs": [],
   "source": [
    "df_3A = df[df.QScore=='3A'].sample(350)   #undersampling, seprating dataframe with QScore=='3A' from QScore=='2A'\n"
   ]
  },
  {
   "cell_type": "code",
   "execution_count": 412,
   "metadata": {},
   "outputs": [
    {
     "data": {
      "text/html": [
       "<div>\n",
       "<style scoped>\n",
       "    .dataframe tbody tr th:only-of-type {\n",
       "        vertical-align: middle;\n",
       "    }\n",
       "\n",
       "    .dataframe tbody tr th {\n",
       "        vertical-align: top;\n",
       "    }\n",
       "\n",
       "    .dataframe thead th {\n",
       "        text-align: right;\n",
       "    }\n",
       "</style>\n",
       "<table border=\"1\" class=\"dataframe\">\n",
       "  <thead>\n",
       "    <tr style=\"text-align: right;\">\n",
       "      <th></th>\n",
       "      <th>country</th>\n",
       "      <th>year</th>\n",
       "      <th>country_code</th>\n",
       "      <th>record</th>\n",
       "      <th>crop_land</th>\n",
       "      <th>grazing_land</th>\n",
       "      <th>forest_land</th>\n",
       "      <th>fishing_ground</th>\n",
       "      <th>built_up_land</th>\n",
       "      <th>carbon</th>\n",
       "      <th>total</th>\n",
       "      <th>QScore</th>\n",
       "    </tr>\n",
       "  </thead>\n",
       "  <tbody>\n",
       "    <tr>\n",
       "      <th>51649</th>\n",
       "      <td>Zimbabwe</td>\n",
       "      <td>1977</td>\n",
       "      <td>181</td>\n",
       "      <td>EFProdTotGHA</td>\n",
       "      <td>2.566866e+06</td>\n",
       "      <td>3.573056e+06</td>\n",
       "      <td>2107105.486</td>\n",
       "      <td>7.526496e+03</td>\n",
       "      <td>2.731006e+05</td>\n",
       "      <td>2.603161e+06</td>\n",
       "      <td>1.113082e+07</td>\n",
       "      <td>3A</td>\n",
       "    </tr>\n",
       "    <tr>\n",
       "      <th>53244</th>\n",
       "      <td>Rwanda</td>\n",
       "      <td>2009</td>\n",
       "      <td>184</td>\n",
       "      <td>BiocapPerCap</td>\n",
       "      <td>3.310813e-01</td>\n",
       "      <td>6.357064e-02</td>\n",
       "      <td>0.015117329</td>\n",
       "      <td>6.170454e-03</td>\n",
       "      <td>4.029151e-02</td>\n",
       "      <td>0.000000e+00</td>\n",
       "      <td>4.562313e-01</td>\n",
       "      <td>3A</td>\n",
       "    </tr>\n",
       "    <tr>\n",
       "      <th>5794</th>\n",
       "      <td>Bhutan</td>\n",
       "      <td>2008</td>\n",
       "      <td>18</td>\n",
       "      <td>BiocapPerCap</td>\n",
       "      <td>3.302761e-01</td>\n",
       "      <td>3.629017e-01</td>\n",
       "      <td>4.600420573</td>\n",
       "      <td>1.450244e-02</td>\n",
       "      <td>2.649167e-01</td>\n",
       "      <td>0.000000e+00</td>\n",
       "      <td>5.573018e+00</td>\n",
       "      <td>3A</td>\n",
       "    </tr>\n",
       "    <tr>\n",
       "      <th>71507</th>\n",
       "      <td>China</td>\n",
       "      <td>1988</td>\n",
       "      <td>351</td>\n",
       "      <td>AreaTotHA</td>\n",
       "      <td>1.291030e+08</td>\n",
       "      <td>3.651760e+08</td>\n",
       "      <td>1.57141e+08</td>\n",
       "      <td>1.352300e+08</td>\n",
       "      <td>2.563090e+07</td>\n",
       "      <td>0.000000e+00</td>\n",
       "      <td>8.122805e+08</td>\n",
       "      <td>3A</td>\n",
       "    </tr>\n",
       "    <tr>\n",
       "      <th>3891</th>\n",
       "      <td>Bahamas</td>\n",
       "      <td>2003</td>\n",
       "      <td>12</td>\n",
       "      <td>BiocapTotGHA</td>\n",
       "      <td>1.196271e+04</td>\n",
       "      <td>9.187817e+02</td>\n",
       "      <td>444635.1653</td>\n",
       "      <td>3.120733e+06</td>\n",
       "      <td>9.221648e+03</td>\n",
       "      <td>0.000000e+00</td>\n",
       "      <td>3.587471e+06</td>\n",
       "      <td>3A</td>\n",
       "    </tr>\n",
       "    <tr>\n",
       "      <th>...</th>\n",
       "      <td>...</td>\n",
       "      <td>...</td>\n",
       "      <td>...</td>\n",
       "      <td>...</td>\n",
       "      <td>...</td>\n",
       "      <td>...</td>\n",
       "      <td>...</td>\n",
       "      <td>...</td>\n",
       "      <td>...</td>\n",
       "      <td>...</td>\n",
       "      <td>...</td>\n",
       "      <td>...</td>\n",
       "    </tr>\n",
       "    <tr>\n",
       "      <th>39300</th>\n",
       "      <td>Mali</td>\n",
       "      <td>2015</td>\n",
       "      <td>133</td>\n",
       "      <td>EFConsPerCap</td>\n",
       "      <td>5.918517e-01</td>\n",
       "      <td>5.706870e-01</td>\n",
       "      <td>0.157516632</td>\n",
       "      <td>4.390289e-02</td>\n",
       "      <td>7.902384e-02</td>\n",
       "      <td>1.465964e-01</td>\n",
       "      <td>1.589578e+00</td>\n",
       "      <td>3A</td>\n",
       "    </tr>\n",
       "    <tr>\n",
       "      <th>70158</th>\n",
       "      <td>Belgium</td>\n",
       "      <td>1965</td>\n",
       "      <td>255</td>\n",
       "      <td>EFConsPerCap</td>\n",
       "      <td>9.840540e-01</td>\n",
       "      <td>8.289605e-01</td>\n",
       "      <td>0.38681</td>\n",
       "      <td>1.532732e-01</td>\n",
       "      <td>1.025244e-01</td>\n",
       "      <td>3.825175e+00</td>\n",
       "      <td>6.280797e+00</td>\n",
       "      <td>3A</td>\n",
       "    </tr>\n",
       "    <tr>\n",
       "      <th>57518</th>\n",
       "      <td>Spain</td>\n",
       "      <td>1983</td>\n",
       "      <td>203</td>\n",
       "      <td>EFConsPerCap</td>\n",
       "      <td>8.467403e-01</td>\n",
       "      <td>1.688228e-01</td>\n",
       "      <td>0.262684285</td>\n",
       "      <td>3.597436e-01</td>\n",
       "      <td>2.071610e-02</td>\n",
       "      <td>1.839953e+00</td>\n",
       "      <td>3.498660e+00</td>\n",
       "      <td>3A</td>\n",
       "    </tr>\n",
       "    <tr>\n",
       "      <th>70627</th>\n",
       "      <td>Luxembourg</td>\n",
       "      <td>1968</td>\n",
       "      <td>256</td>\n",
       "      <td>AreaTotHA</td>\n",
       "      <td>1.348418e+05</td>\n",
       "      <td>4.267799e+04</td>\n",
       "      <td>91163.6</td>\n",
       "      <td>1.037000e+03</td>\n",
       "      <td>2.119760e+04</td>\n",
       "      <td>0.000000e+00</td>\n",
       "      <td>2.909180e+05</td>\n",
       "      <td>3A</td>\n",
       "    </tr>\n",
       "    <tr>\n",
       "      <th>49786</th>\n",
       "      <td>Portugal</td>\n",
       "      <td>1967</td>\n",
       "      <td>174</td>\n",
       "      <td>AreaPerCap</td>\n",
       "      <td>4.060201e-01</td>\n",
       "      <td>9.495040e-02</td>\n",
       "      <td>0.28170859</td>\n",
       "      <td>2.959720e-01</td>\n",
       "      <td>2.313579e-02</td>\n",
       "      <td>0.000000e+00</td>\n",
       "      <td>1.101787e+00</td>\n",
       "      <td>3A</td>\n",
       "    </tr>\n",
       "  </tbody>\n",
       "</table>\n",
       "<p>350 rows × 12 columns</p>\n",
       "</div>"
      ],
      "text/plain": [
       "          country  year  country_code        record     crop_land  \\\n",
       "51649    Zimbabwe  1977           181  EFProdTotGHA  2.566866e+06   \n",
       "53244      Rwanda  2009           184  BiocapPerCap  3.310813e-01   \n",
       "5794       Bhutan  2008            18  BiocapPerCap  3.302761e-01   \n",
       "71507       China  1988           351     AreaTotHA  1.291030e+08   \n",
       "3891      Bahamas  2003            12  BiocapTotGHA  1.196271e+04   \n",
       "...           ...   ...           ...           ...           ...   \n",
       "39300        Mali  2015           133  EFConsPerCap  5.918517e-01   \n",
       "70158     Belgium  1965           255  EFConsPerCap  9.840540e-01   \n",
       "57518       Spain  1983           203  EFConsPerCap  8.467403e-01   \n",
       "70627  Luxembourg  1968           256     AreaTotHA  1.348418e+05   \n",
       "49786    Portugal  1967           174    AreaPerCap  4.060201e-01   \n",
       "\n",
       "       grazing_land  forest_land  fishing_ground  built_up_land        carbon  \\\n",
       "51649  3.573056e+06  2107105.486    7.526496e+03   2.731006e+05  2.603161e+06   \n",
       "53244  6.357064e-02  0.015117329    6.170454e-03   4.029151e-02  0.000000e+00   \n",
       "5794   3.629017e-01  4.600420573    1.450244e-02   2.649167e-01  0.000000e+00   \n",
       "71507  3.651760e+08  1.57141e+08    1.352300e+08   2.563090e+07  0.000000e+00   \n",
       "3891   9.187817e+02  444635.1653    3.120733e+06   9.221648e+03  0.000000e+00   \n",
       "...             ...          ...             ...            ...           ...   \n",
       "39300  5.706870e-01  0.157516632    4.390289e-02   7.902384e-02  1.465964e-01   \n",
       "70158  8.289605e-01      0.38681    1.532732e-01   1.025244e-01  3.825175e+00   \n",
       "57518  1.688228e-01  0.262684285    3.597436e-01   2.071610e-02  1.839953e+00   \n",
       "70627  4.267799e+04      91163.6    1.037000e+03   2.119760e+04  0.000000e+00   \n",
       "49786  9.495040e-02   0.28170859    2.959720e-01   2.313579e-02  0.000000e+00   \n",
       "\n",
       "              total QScore  \n",
       "51649  1.113082e+07     3A  \n",
       "53244  4.562313e-01     3A  \n",
       "5794   5.573018e+00     3A  \n",
       "71507  8.122805e+08     3A  \n",
       "3891   3.587471e+06     3A  \n",
       "...             ...    ...  \n",
       "39300  1.589578e+00     3A  \n",
       "70158  6.280797e+00     3A  \n",
       "57518  3.498660e+00     3A  \n",
       "70627  2.909180e+05     3A  \n",
       "49786  1.101787e+00     3A  \n",
       "\n",
       "[350 rows x 12 columns]"
      ]
     },
     "execution_count": 412,
     "metadata": {},
     "output_type": "execute_result"
    }
   ],
   "source": [
    "df_3A"
   ]
  },
  {
   "cell_type": "markdown",
   "metadata": {},
   "source": [
    "**step4--> set the working dataframe and model the data**"
   ]
  },
  {
   "cell_type": "code",
   "execution_count": 413,
   "metadata": {},
   "outputs": [],
   "source": [
    "data_df = df_2A.append(df_3A)     #working dataframe with 590 samples"
   ]
  },
  {
   "cell_type": "code",
   "execution_count": 414,
   "metadata": {},
   "outputs": [
    {
     "data": {
      "text/html": [
       "<div>\n",
       "<style scoped>\n",
       "    .dataframe tbody tr th:only-of-type {\n",
       "        vertical-align: middle;\n",
       "    }\n",
       "\n",
       "    .dataframe tbody tr th {\n",
       "        vertical-align: top;\n",
       "    }\n",
       "\n",
       "    .dataframe thead th {\n",
       "        text-align: right;\n",
       "    }\n",
       "</style>\n",
       "<table border=\"1\" class=\"dataframe\">\n",
       "  <thead>\n",
       "    <tr style=\"text-align: right;\">\n",
       "      <th></th>\n",
       "      <th>country</th>\n",
       "      <th>year</th>\n",
       "      <th>country_code</th>\n",
       "      <th>record</th>\n",
       "      <th>crop_land</th>\n",
       "      <th>grazing_land</th>\n",
       "      <th>forest_land</th>\n",
       "      <th>fishing_ground</th>\n",
       "      <th>built_up_land</th>\n",
       "      <th>carbon</th>\n",
       "      <th>total</th>\n",
       "      <th>QScore</th>\n",
       "    </tr>\n",
       "  </thead>\n",
       "  <tbody>\n",
       "    <tr>\n",
       "      <th>1536</th>\n",
       "      <td>Algeria</td>\n",
       "      <td>2016</td>\n",
       "      <td>4</td>\n",
       "      <td>AreaPerCap</td>\n",
       "      <td>2.072989e-01</td>\n",
       "      <td>8.112722e-01</td>\n",
       "      <td>0.048357265</td>\n",
       "      <td>0.022585</td>\n",
       "      <td>2.998367e-02</td>\n",
       "      <td>0.000000</td>\n",
       "      <td>1.119497e+00</td>\n",
       "      <td>2A</td>\n",
       "    </tr>\n",
       "    <tr>\n",
       "      <th>1537</th>\n",
       "      <td>Algeria</td>\n",
       "      <td>2016</td>\n",
       "      <td>4</td>\n",
       "      <td>AreaTotHA</td>\n",
       "      <td>8.417600e+06</td>\n",
       "      <td>3.294260e+07</td>\n",
       "      <td>1963600</td>\n",
       "      <td>917100.000000</td>\n",
       "      <td>1.217520e+06</td>\n",
       "      <td>0.000000</td>\n",
       "      <td>4.545842e+07</td>\n",
       "      <td>2A</td>\n",
       "    </tr>\n",
       "    <tr>\n",
       "      <th>1538</th>\n",
       "      <td>Algeria</td>\n",
       "      <td>2016</td>\n",
       "      <td>4</td>\n",
       "      <td>BiocapPerCap</td>\n",
       "      <td>2.021916e-01</td>\n",
       "      <td>2.636077e-01</td>\n",
       "      <td>0.027166736</td>\n",
       "      <td>0.007948</td>\n",
       "      <td>2.924496e-02</td>\n",
       "      <td>0.000000</td>\n",
       "      <td>5.301590e-01</td>\n",
       "      <td>2A</td>\n",
       "    </tr>\n",
       "    <tr>\n",
       "      <th>1539</th>\n",
       "      <td>Algeria</td>\n",
       "      <td>2016</td>\n",
       "      <td>4</td>\n",
       "      <td>BiocapTotGHA</td>\n",
       "      <td>8.210214e+06</td>\n",
       "      <td>1.070408e+07</td>\n",
       "      <td>1103135.245</td>\n",
       "      <td>322736.916200</td>\n",
       "      <td>1.187524e+06</td>\n",
       "      <td>0.000000</td>\n",
       "      <td>2.152769e+07</td>\n",
       "      <td>2A</td>\n",
       "    </tr>\n",
       "    <tr>\n",
       "      <th>1540</th>\n",
       "      <td>Algeria</td>\n",
       "      <td>2016</td>\n",
       "      <td>4</td>\n",
       "      <td>EFConsPerCap</td>\n",
       "      <td>6.280528e-01</td>\n",
       "      <td>1.810332e-01</td>\n",
       "      <td>0.162800822</td>\n",
       "      <td>0.014729</td>\n",
       "      <td>2.924496e-02</td>\n",
       "      <td>1.391455</td>\n",
       "      <td>2.407316e+00</td>\n",
       "      <td>2A</td>\n",
       "    </tr>\n",
       "    <tr>\n",
       "      <th>...</th>\n",
       "      <td>...</td>\n",
       "      <td>...</td>\n",
       "      <td>...</td>\n",
       "      <td>...</td>\n",
       "      <td>...</td>\n",
       "      <td>...</td>\n",
       "      <td>...</td>\n",
       "      <td>...</td>\n",
       "      <td>...</td>\n",
       "      <td>...</td>\n",
       "      <td>...</td>\n",
       "      <td>...</td>\n",
       "    </tr>\n",
       "    <tr>\n",
       "      <th>39300</th>\n",
       "      <td>Mali</td>\n",
       "      <td>2015</td>\n",
       "      <td>133</td>\n",
       "      <td>EFConsPerCap</td>\n",
       "      <td>5.918517e-01</td>\n",
       "      <td>5.706870e-01</td>\n",
       "      <td>0.157516632</td>\n",
       "      <td>0.043903</td>\n",
       "      <td>7.902384e-02</td>\n",
       "      <td>0.146596</td>\n",
       "      <td>1.589578e+00</td>\n",
       "      <td>3A</td>\n",
       "    </tr>\n",
       "    <tr>\n",
       "      <th>70158</th>\n",
       "      <td>Belgium</td>\n",
       "      <td>1965</td>\n",
       "      <td>255</td>\n",
       "      <td>EFConsPerCap</td>\n",
       "      <td>9.840540e-01</td>\n",
       "      <td>8.289605e-01</td>\n",
       "      <td>0.38681</td>\n",
       "      <td>0.153273</td>\n",
       "      <td>1.025244e-01</td>\n",
       "      <td>3.825175</td>\n",
       "      <td>6.280797e+00</td>\n",
       "      <td>3A</td>\n",
       "    </tr>\n",
       "    <tr>\n",
       "      <th>57518</th>\n",
       "      <td>Spain</td>\n",
       "      <td>1983</td>\n",
       "      <td>203</td>\n",
       "      <td>EFConsPerCap</td>\n",
       "      <td>8.467403e-01</td>\n",
       "      <td>1.688228e-01</td>\n",
       "      <td>0.262684285</td>\n",
       "      <td>0.359744</td>\n",
       "      <td>2.071610e-02</td>\n",
       "      <td>1.839953</td>\n",
       "      <td>3.498660e+00</td>\n",
       "      <td>3A</td>\n",
       "    </tr>\n",
       "    <tr>\n",
       "      <th>70627</th>\n",
       "      <td>Luxembourg</td>\n",
       "      <td>1968</td>\n",
       "      <td>256</td>\n",
       "      <td>AreaTotHA</td>\n",
       "      <td>1.348418e+05</td>\n",
       "      <td>4.267799e+04</td>\n",
       "      <td>91163.6</td>\n",
       "      <td>1037.000000</td>\n",
       "      <td>2.119760e+04</td>\n",
       "      <td>0.000000</td>\n",
       "      <td>2.909180e+05</td>\n",
       "      <td>3A</td>\n",
       "    </tr>\n",
       "    <tr>\n",
       "      <th>49786</th>\n",
       "      <td>Portugal</td>\n",
       "      <td>1967</td>\n",
       "      <td>174</td>\n",
       "      <td>AreaPerCap</td>\n",
       "      <td>4.060201e-01</td>\n",
       "      <td>9.495040e-02</td>\n",
       "      <td>0.28170859</td>\n",
       "      <td>0.295972</td>\n",
       "      <td>2.313579e-02</td>\n",
       "      <td>0.000000</td>\n",
       "      <td>1.101787e+00</td>\n",
       "      <td>3A</td>\n",
       "    </tr>\n",
       "  </tbody>\n",
       "</table>\n",
       "<p>590 rows × 12 columns</p>\n",
       "</div>"
      ],
      "text/plain": [
       "          country  year  country_code        record     crop_land  \\\n",
       "1536      Algeria  2016             4    AreaPerCap  2.072989e-01   \n",
       "1537      Algeria  2016             4     AreaTotHA  8.417600e+06   \n",
       "1538      Algeria  2016             4  BiocapPerCap  2.021916e-01   \n",
       "1539      Algeria  2016             4  BiocapTotGHA  8.210214e+06   \n",
       "1540      Algeria  2016             4  EFConsPerCap  6.280528e-01   \n",
       "...           ...   ...           ...           ...           ...   \n",
       "39300        Mali  2015           133  EFConsPerCap  5.918517e-01   \n",
       "70158     Belgium  1965           255  EFConsPerCap  9.840540e-01   \n",
       "57518       Spain  1983           203  EFConsPerCap  8.467403e-01   \n",
       "70627  Luxembourg  1968           256     AreaTotHA  1.348418e+05   \n",
       "49786    Portugal  1967           174    AreaPerCap  4.060201e-01   \n",
       "\n",
       "       grazing_land  forest_land  fishing_ground  built_up_land    carbon  \\\n",
       "1536   8.112722e-01  0.048357265        0.022585   2.998367e-02  0.000000   \n",
       "1537   3.294260e+07      1963600   917100.000000   1.217520e+06  0.000000   \n",
       "1538   2.636077e-01  0.027166736        0.007948   2.924496e-02  0.000000   \n",
       "1539   1.070408e+07  1103135.245   322736.916200   1.187524e+06  0.000000   \n",
       "1540   1.810332e-01  0.162800822        0.014729   2.924496e-02  1.391455   \n",
       "...             ...          ...             ...            ...       ...   \n",
       "39300  5.706870e-01  0.157516632        0.043903   7.902384e-02  0.146596   \n",
       "70158  8.289605e-01      0.38681        0.153273   1.025244e-01  3.825175   \n",
       "57518  1.688228e-01  0.262684285        0.359744   2.071610e-02  1.839953   \n",
       "70627  4.267799e+04      91163.6     1037.000000   2.119760e+04  0.000000   \n",
       "49786  9.495040e-02   0.28170859        0.295972   2.313579e-02  0.000000   \n",
       "\n",
       "              total QScore  \n",
       "1536   1.119497e+00     2A  \n",
       "1537   4.545842e+07     2A  \n",
       "1538   5.301590e-01     2A  \n",
       "1539   2.152769e+07     2A  \n",
       "1540   2.407316e+00     2A  \n",
       "...             ...    ...  \n",
       "39300  1.589578e+00     3A  \n",
       "70158  6.280797e+00     3A  \n",
       "57518  3.498660e+00     3A  \n",
       "70627  2.909180e+05     3A  \n",
       "49786  1.101787e+00     3A  \n",
       "\n",
       "[590 rows x 12 columns]"
      ]
     },
     "execution_count": 414,
     "metadata": {},
     "output_type": "execute_result"
    }
   ],
   "source": [
    "data_df"
   ]
  },
  {
   "cell_type": "code",
   "execution_count": 415,
   "metadata": {},
   "outputs": [],
   "source": [
    "import sklearn.utils\n",
    "data_df = sklearn.utils.shuffle(data_df)\n",
    "data_df = data_df.reset_index(drop=True)"
   ]
  },
  {
   "cell_type": "code",
   "execution_count": 416,
   "metadata": {},
   "outputs": [
    {
     "data": {
      "text/html": [
       "<div>\n",
       "<style scoped>\n",
       "    .dataframe tbody tr th:only-of-type {\n",
       "        vertical-align: middle;\n",
       "    }\n",
       "\n",
       "    .dataframe tbody tr th {\n",
       "        vertical-align: top;\n",
       "    }\n",
       "\n",
       "    .dataframe thead th {\n",
       "        text-align: right;\n",
       "    }\n",
       "</style>\n",
       "<table border=\"1\" class=\"dataframe\">\n",
       "  <thead>\n",
       "    <tr style=\"text-align: right;\">\n",
       "      <th></th>\n",
       "      <th>country</th>\n",
       "      <th>year</th>\n",
       "      <th>country_code</th>\n",
       "      <th>record</th>\n",
       "      <th>crop_land</th>\n",
       "      <th>grazing_land</th>\n",
       "      <th>forest_land</th>\n",
       "      <th>fishing_ground</th>\n",
       "      <th>built_up_land</th>\n",
       "      <th>carbon</th>\n",
       "      <th>total</th>\n",
       "      <th>QScore</th>\n",
       "    </tr>\n",
       "  </thead>\n",
       "  <tbody>\n",
       "    <tr>\n",
       "      <th>0</th>\n",
       "      <td>Gabon</td>\n",
       "      <td>2016</td>\n",
       "      <td>74</td>\n",
       "      <td>EFConsTotGHA</td>\n",
       "      <td>9.319144e+05</td>\n",
       "      <td>2.785178e+05</td>\n",
       "      <td>1415265.59</td>\n",
       "      <td>3.378455e+05</td>\n",
       "      <td>7.058996e+04</td>\n",
       "      <td>1502702.145</td>\n",
       "      <td>4.536835e+06</td>\n",
       "      <td>2A</td>\n",
       "    </tr>\n",
       "    <tr>\n",
       "      <th>1</th>\n",
       "      <td>Kyrgyzstan</td>\n",
       "      <td>2016</td>\n",
       "      <td>113</td>\n",
       "      <td>BiocapPerCap</td>\n",
       "      <td>4.014356e-01</td>\n",
       "      <td>5.829795e-01</td>\n",
       "      <td>0.053906397</td>\n",
       "      <td>5.054786e-02</td>\n",
       "      <td>7.480447e-02</td>\n",
       "      <td>0.000</td>\n",
       "      <td>1.163674e+00</td>\n",
       "      <td>2A</td>\n",
       "    </tr>\n",
       "    <tr>\n",
       "      <th>2</th>\n",
       "      <td>Tajikistan</td>\n",
       "      <td>2016</td>\n",
       "      <td>208</td>\n",
       "      <td>AreaTotHA</td>\n",
       "      <td>8.630000e+05</td>\n",
       "      <td>3.875000e+06</td>\n",
       "      <td>412400</td>\n",
       "      <td>2.590000e+05</td>\n",
       "      <td>2.880640e+05</td>\n",
       "      <td>0.000</td>\n",
       "      <td>5.697464e+06</td>\n",
       "      <td>2A</td>\n",
       "    </tr>\n",
       "    <tr>\n",
       "      <th>3</th>\n",
       "      <td>Gabon</td>\n",
       "      <td>2016</td>\n",
       "      <td>74</td>\n",
       "      <td>AreaPerCap</td>\n",
       "      <td>2.500265e-01</td>\n",
       "      <td>2.356310e+00</td>\n",
       "      <td>11.71841435</td>\n",
       "      <td>2.352371e+00</td>\n",
       "      <td>3.898873e-02</td>\n",
       "      <td>0.000</td>\n",
       "      <td>1.671611e+01</td>\n",
       "      <td>2A</td>\n",
       "    </tr>\n",
       "    <tr>\n",
       "      <th>4</th>\n",
       "      <td>Mongolia</td>\n",
       "      <td>2016</td>\n",
       "      <td>141</td>\n",
       "      <td>AreaTotHA</td>\n",
       "      <td>5.722000e+05</td>\n",
       "      <td>1.104900e+08</td>\n",
       "      <td>12455520</td>\n",
       "      <td>1.056000e+06</td>\n",
       "      <td>1.831010e+05</td>\n",
       "      <td>0.000</td>\n",
       "      <td>1.247568e+08</td>\n",
       "      <td>2A</td>\n",
       "    </tr>\n",
       "    <tr>\n",
       "      <th>...</th>\n",
       "      <td>...</td>\n",
       "      <td>...</td>\n",
       "      <td>...</td>\n",
       "      <td>...</td>\n",
       "      <td>...</td>\n",
       "      <td>...</td>\n",
       "      <td>...</td>\n",
       "      <td>...</td>\n",
       "      <td>...</td>\n",
       "      <td>...</td>\n",
       "      <td>...</td>\n",
       "      <td>...</td>\n",
       "    </tr>\n",
       "    <tr>\n",
       "      <th>585</th>\n",
       "      <td>Algeria</td>\n",
       "      <td>2016</td>\n",
       "      <td>4</td>\n",
       "      <td>AreaTotHA</td>\n",
       "      <td>8.417600e+06</td>\n",
       "      <td>3.294260e+07</td>\n",
       "      <td>1963600</td>\n",
       "      <td>9.171000e+05</td>\n",
       "      <td>1.217520e+06</td>\n",
       "      <td>0.000</td>\n",
       "      <td>4.545842e+07</td>\n",
       "      <td>2A</td>\n",
       "    </tr>\n",
       "    <tr>\n",
       "      <th>586</th>\n",
       "      <td>Ghana</td>\n",
       "      <td>1994</td>\n",
       "      <td>81</td>\n",
       "      <td>BiocapTotGHA</td>\n",
       "      <td>6.845697e+06</td>\n",
       "      <td>6.686517e+06</td>\n",
       "      <td>7039663.217</td>\n",
       "      <td>1.556401e+06</td>\n",
       "      <td>7.844150e+05</td>\n",
       "      <td>0.000</td>\n",
       "      <td>2.291269e+07</td>\n",
       "      <td>3A</td>\n",
       "    </tr>\n",
       "    <tr>\n",
       "      <th>587</th>\n",
       "      <td>Guatemala</td>\n",
       "      <td>2016</td>\n",
       "      <td>89</td>\n",
       "      <td>EFProdTotGHA</td>\n",
       "      <td>7.517044e+06</td>\n",
       "      <td>2.431725e+06</td>\n",
       "      <td>8188975.279</td>\n",
       "      <td>4.433817e+05</td>\n",
       "      <td>1.496289e+06</td>\n",
       "      <td>5937151.413</td>\n",
       "      <td>2.601457e+07</td>\n",
       "      <td>2A</td>\n",
       "    </tr>\n",
       "    <tr>\n",
       "      <th>588</th>\n",
       "      <td>Mongolia</td>\n",
       "      <td>2016</td>\n",
       "      <td>141</td>\n",
       "      <td>EFProdTotGHA</td>\n",
       "      <td>5.633173e+05</td>\n",
       "      <td>1.616171e+07</td>\n",
       "      <td>343305.3159</td>\n",
       "      <td>2.314624e+01</td>\n",
       "      <td>1.802586e+05</td>\n",
       "      <td>6218086.484</td>\n",
       "      <td>2.346670e+07</td>\n",
       "      <td>2A</td>\n",
       "    </tr>\n",
       "    <tr>\n",
       "      <th>589</th>\n",
       "      <td>Albania</td>\n",
       "      <td>1998</td>\n",
       "      <td>3</td>\n",
       "      <td>EFConsTotGHA</td>\n",
       "      <td>1.488509e+06</td>\n",
       "      <td>6.345814e+05</td>\n",
       "      <td>71689.78695</td>\n",
       "      <td>3.128250e+04</td>\n",
       "      <td>6.304559e+04</td>\n",
       "      <td>1492576.164</td>\n",
       "      <td>3.781685e+06</td>\n",
       "      <td>3A</td>\n",
       "    </tr>\n",
       "  </tbody>\n",
       "</table>\n",
       "<p>590 rows × 12 columns</p>\n",
       "</div>"
      ],
      "text/plain": [
       "        country  year  country_code        record     crop_land  grazing_land  \\\n",
       "0         Gabon  2016            74  EFConsTotGHA  9.319144e+05  2.785178e+05   \n",
       "1    Kyrgyzstan  2016           113  BiocapPerCap  4.014356e-01  5.829795e-01   \n",
       "2    Tajikistan  2016           208     AreaTotHA  8.630000e+05  3.875000e+06   \n",
       "3         Gabon  2016            74    AreaPerCap  2.500265e-01  2.356310e+00   \n",
       "4      Mongolia  2016           141     AreaTotHA  5.722000e+05  1.104900e+08   \n",
       "..          ...   ...           ...           ...           ...           ...   \n",
       "585     Algeria  2016             4     AreaTotHA  8.417600e+06  3.294260e+07   \n",
       "586       Ghana  1994            81  BiocapTotGHA  6.845697e+06  6.686517e+06   \n",
       "587   Guatemala  2016            89  EFProdTotGHA  7.517044e+06  2.431725e+06   \n",
       "588    Mongolia  2016           141  EFProdTotGHA  5.633173e+05  1.616171e+07   \n",
       "589     Albania  1998             3  EFConsTotGHA  1.488509e+06  6.345814e+05   \n",
       "\n",
       "     forest_land  fishing_ground  built_up_land       carbon         total  \\\n",
       "0     1415265.59    3.378455e+05   7.058996e+04  1502702.145  4.536835e+06   \n",
       "1    0.053906397    5.054786e-02   7.480447e-02        0.000  1.163674e+00   \n",
       "2         412400    2.590000e+05   2.880640e+05        0.000  5.697464e+06   \n",
       "3    11.71841435    2.352371e+00   3.898873e-02        0.000  1.671611e+01   \n",
       "4       12455520    1.056000e+06   1.831010e+05        0.000  1.247568e+08   \n",
       "..           ...             ...            ...          ...           ...   \n",
       "585      1963600    9.171000e+05   1.217520e+06        0.000  4.545842e+07   \n",
       "586  7039663.217    1.556401e+06   7.844150e+05        0.000  2.291269e+07   \n",
       "587  8188975.279    4.433817e+05   1.496289e+06  5937151.413  2.601457e+07   \n",
       "588  343305.3159    2.314624e+01   1.802586e+05  6218086.484  2.346670e+07   \n",
       "589  71689.78695    3.128250e+04   6.304559e+04  1492576.164  3.781685e+06   \n",
       "\n",
       "    QScore  \n",
       "0       2A  \n",
       "1       2A  \n",
       "2       2A  \n",
       "3       2A  \n",
       "4       2A  \n",
       "..     ...  \n",
       "585     2A  \n",
       "586     3A  \n",
       "587     2A  \n",
       "588     2A  \n",
       "589     3A  \n",
       "\n",
       "[590 rows x 12 columns]"
      ]
     },
     "execution_count": 416,
     "metadata": {},
     "output_type": "execute_result"
    }
   ],
   "source": [
    "data_df"
   ]
  },
  {
   "cell_type": "code",
   "execution_count": 417,
   "metadata": {},
   "outputs": [
    {
     "data": {
      "text/plain": [
       "(590, 12)"
      ]
     },
     "execution_count": 417,
     "metadata": {},
     "output_type": "execute_result"
    }
   ],
   "source": [
    "data_df.shape"
   ]
  },
  {
   "cell_type": "code",
   "execution_count": 418,
   "metadata": {},
   "outputs": [
    {
     "data": {
      "text/plain": [
       "3A    350\n",
       "2A    240\n",
       "Name: QScore, dtype: int64"
      ]
     },
     "execution_count": 418,
     "metadata": {},
     "output_type": "execute_result"
    }
   ],
   "source": [
    "data_df.QScore.value_counts()"
   ]
  },
  {
   "cell_type": "code",
   "execution_count": 419,
   "metadata": {},
   "outputs": [],
   "source": [
    "#more preprocessing\n",
    "data_df = data_df.drop(columns=['country_code', 'country', 'year'])  #droppin undesired colums\n",
    "X = data_df.drop(columns='QScore')\n",
    "y = data_df['QScore']\n"
   ]
  },
  {
   "cell_type": "code",
   "execution_count": 420,
   "metadata": {},
   "outputs": [],
   "source": [
    "# split X and y into training and testing sets\n",
    "#from sklearn.cross_validation import train_test_split\n",
    "#X_train,X_test,y_train,y_test=train_test_split(X,y,test_size=0.25,random_state=0)"
   ]
  },
  {
   "cell_type": "code",
   "execution_count": 421,
   "metadata": {},
   "outputs": [],
   "source": [
    "#split the data into training and testing sets\n",
    "from sklearn.model_selection import train_test_split\n",
    "x_train, x_test, y_train, y_test = train_test_split(X, y, test_size=0.3, random_state=0)\n"
   ]
  },
  {
   "cell_type": "code",
   "execution_count": 422,
   "metadata": {},
   "outputs": [
    {
     "data": {
      "text/plain": [
       "3A    241\n",
       "2A    172\n",
       "Name: QScore, dtype: int64"
      ]
     },
     "execution_count": 422,
     "metadata": {},
     "output_type": "execute_result"
    }
   ],
   "source": [
    "y_train.value_counts()            #imbalanced class distribution"
   ]
  },
  {
   "cell_type": "markdown",
   "metadata": {},
   "source": [
    "#There is still an imbalance in the class distribution. For this, we use SMOTE only on the training data to handle this."
   ]
  },
  {
   "cell_type": "markdown",
   "metadata": {},
   "source": [
    "**step5-->use SMOTE only on the training data**\n",
    "**balanced class distribution but first**  \n",
    "**encode categorical variable **"
   ]
  },
  {
   "cell_type": "code",
   "execution_count": 423,
   "metadata": {},
   "outputs": [
    {
     "name": "stderr",
     "output_type": "stream",
     "text": [
      "C:\\ProgramData\\Anaconda3\\lib\\site-packages\\pandas\\core\\generic.py:5303: SettingWithCopyWarning: \n",
      "A value is trying to be set on a copy of a slice from a DataFrame.\n",
      "Try using .loc[row_indexer,col_indexer] = value instead\n",
      "\n",
      "See the caveats in the documentation: https://pandas.pydata.org/pandas-docs/stable/user_guide/indexing.html#returning-a-view-versus-a-copy\n",
      "  self[name] = value\n"
     ]
    }
   ],
   "source": [
    "#encode categorical variable\n",
    "from sklearn.preprocessing import LabelEncoder\n",
    "encoder = LabelEncoder()\n",
    "x_train.record = encoder.fit_transform(x_train.record)\n",
    "x_test.record = encoder.transform(x_test.record)"
   ]
  },
  {
   "cell_type": "code",
   "execution_count": 424,
   "metadata": {},
   "outputs": [],
   "source": [
    "#import SMOTE from imblearn\n",
    "from imblearn.over_sampling import SMOTE\n",
    "smote = SMOTE(random_state=1)\n",
    "x_train_balanced, y_balanced = smote.fit_sample(x_train, y_train)\n"
   ]
  },
  {
   "cell_type": "code",
   "execution_count": 425,
   "metadata": {},
   "outputs": [
    {
     "data": {
      "text/plain": [
       "3A    241\n",
       "2A    241\n",
       "Name: QScore, dtype: int64"
      ]
     },
     "execution_count": 425,
     "metadata": {},
     "output_type": "execute_result"
    }
   ],
   "source": [
    "y_balanced.value_counts()       #balanced class distribution"
   ]
  },
  {
   "cell_type": "code",
   "execution_count": 426,
   "metadata": {},
   "outputs": [],
   "source": [
    "#import MinMaxScaler t0 normalise the data\n",
    "from sklearn.preprocessing import MinMaxScaler\n",
    "scaler = MinMaxScaler()\n",
    "\n",
    "normalised_train_df = scaler.fit_transform(x_train_balanced.drop(columns=['record']))\n",
    "normalised_train_df = pd.DataFrame(normalised_train_df, columns=x_train_balanced.drop(columns=['record']).columns)\n",
    "normalised_train_df['record'] = x_train_balanced['record']\n",
    "\n",
    "x_test = x_test.reset_index(drop=True)\n",
    "normalised_test_df = scaler.transform(x_test.drop(columns=['record']))\n",
    "normalised_test_df = pd.DataFrame(normalised_test_df, columns=x_test.drop(columns=['record']).columns)\n",
    "normalised_test_df['record'] = x_test['record']"
   ]
  },
  {
   "cell_type": "markdown",
   "metadata": {},
   "source": [
    "Logistic regression is a linear algorithm that can be used for binary or multiclass\n",
    "classification. It is a discriminative classifier that estimates the probability that an instance\n",
    "belongs to a class using an s-shape function curve called the sigmoid function.\n",
    "logistic regression can fall in the range of negative infinity to positive infinity. The sigmoid\n",
    "maps these results by shrinking the value to fall between 0 and 1"
   ]
  },
  {
   "cell_type": "code",
   "execution_count": 427,
   "metadata": {},
   "outputs": [
    {
     "data": {
      "text/plain": [
       "LogisticRegression()"
      ]
     },
     "execution_count": 427,
     "metadata": {},
     "output_type": "execute_result"
    }
   ],
   "source": [
    "#Logistic Regression\n",
    "from sklearn.linear_model import LogisticRegression\n",
    "log_reg = LogisticRegression()\n",
    "log_reg.fit(normalised_train_df, y_balanced)\n",
    "\n",
    "#returns\n",
    "LogisticRegression(C=1.0, class_weight=None, dual=False, fit_intercept=True,\n",
    "                   intercept_scaling=1, l1_ratio=None, max_iter=100,\n",
    "                   multi_class='auto', n_jobs=None, penalty='l2',\n",
    "                   random_state=None, solver='lbfgs', tol=0.0001, verbose=0,\n",
    "                   warm_start=False)"
   ]
  },
  {
   "cell_type": "code",
   "execution_count": 428,
   "metadata": {},
   "outputs": [],
   "source": [
    "#Confusion Matrix.py  Diagonal values represent accurate predictions,\n",
    "#while non-diagonal elements are inaccurate predictions\n",
    "\n",
    "from sklearn import metrics\n",
    "\n",
    "#from sklearn.metrics import recall_score, accuracy_score, precision_score, f1_score, confusion_matrix\n",
    "new_predictions = log_reg.predict(normalised_test_df)\n",
    "\n",
    "cnf_mat = confusion_matrix(y_true=y_test, y_pred=new_predictions, labels=['2A', '3A'])"
   ]
  },
  {
   "cell_type": "code",
   "execution_count": 429,
   "metadata": {},
   "outputs": [
    {
     "data": {
      "text/plain": [
       "array([[44, 24],\n",
       "       [65, 44]], dtype=int64)"
      ]
     },
     "execution_count": 429,
     "metadata": {},
     "output_type": "execute_result"
    }
   ],
   "source": [
    "cnf_mat         #inaccurate predictions 42 and 51"
   ]
  },
  {
   "cell_type": "markdown",
   "metadata": {},
   "source": [
    "Visualizing Confusion Matrix using Heatmap"
   ]
  },
  {
   "cell_type": "code",
   "execution_count": 430,
   "metadata": {},
   "outputs": [],
   "source": [
    "import matplotlib.pyplot as plt\n",
    "import seaborn as sns\n",
    "%matplotlib inline"
   ]
  },
  {
   "cell_type": "code",
   "execution_count": 431,
   "metadata": {},
   "outputs": [
    {
     "data": {
      "text/plain": [
       "([<matplotlib.axis.YTick at 0x1c2e605ee48>,\n",
       "  <matplotlib.axis.YTick at 0x1c2e605b548>],\n",
       " <a list of 2 Text yticklabel objects>)"
      ]
     },
     "execution_count": 431,
     "metadata": {},
     "output_type": "execute_result"
    },
    {
     "data": {
      "image/png": "[encoded data removed]",
      "text/plain": [
       "<Figure size 432x288 with 1 Axes>"
      ]
     },
     "metadata": {
      "needs_background": "light"
     },
     "output_type": "display_data"
    }
   ],
   "source": [
    "class_names=['2A', '3A'] # name  of classes\n",
    "fig, ax = plt.subplots()\n",
    "tick_marks = np.arange(len(class_names))\n",
    "plt.xticks(tick_marks, class_names)\n",
    "plt.yticks(tick_marks, class_names)"
   ]
  },
  {
   "cell_type": "code",
   "execution_count": 432,
   "metadata": {},
   "outputs": [
    {
     "data": {
      "text/plain": [
       "Text(0.5, 15.0, 'Predicted label')"
      ]
     },
     "execution_count": 432,
     "metadata": {},
     "output_type": "execute_result"
    },
    {
     "data": {
      "image/png": "[encoded data removed]",
      "text/plain": [
       "<Figure size 432x288 with 2 Axes>"
      ]
     },
     "metadata": {
      "needs_background": "light"
     },
     "output_type": "display_data"
    }
   ],
   "source": [
    "# create heatmap\n",
    "sns.heatmap(pd.DataFrame(cnf_mat), annot=True, cmap=\"YlGnBu\" ,fmt='g')\n",
    "ax.xaxis.set_label_position(\"top\")\n",
    "plt.tight_layout()\n",
    "plt.title('Confusion matrix', y=1.1)\n",
    "plt.ylabel('Actual label')\n",
    "plt.xlabel('Predicted label')"
   ]
  },
  {
   "cell_type": "code",
   "execution_count": 433,
   "metadata": {},
   "outputs": [
    {
     "name": "stdout",
     "output_type": "stream",
     "text": [
      "Accuracy: 0.4971751412429379\n",
      "Precision: 0.4036697247706422\n",
      "Recall: 0.6470588235294118\n"
     ]
    }
   ],
   "source": [
    "print(\"Accuracy:\",metrics.accuracy_score(y_test, y_pred=new_predictions))\n",
    "print(\"Precision:\",metrics.precision_score(y_test, y_pred=new_predictions, pos_label='2A'))\n",
    "print(\"Recall:\",metrics.recall_score(y_test, y_pred=new_predictions, pos_label='2A'))"
   ]
  },
  {
   "cell_type": "code",
   "execution_count": 440,
   "metadata": {},
   "outputs": [
    {
     "data": {
      "text/plain": [
       "(177,)"
      ]
     },
     "execution_count": 440,
     "metadata": {},
     "output_type": "execute_result"
    }
   ],
   "source": [
    "y_test.shape"
   ]
  },
  {
   "cell_type": "code",
   "execution_count": 437,
   "metadata": {},
   "outputs": [
    {
     "data": {
      "text/plain": [
       "(482,)"
      ]
     },
     "execution_count": 437,
     "metadata": {},
     "output_type": "execute_result"
    }
   ],
   "source": [
    "y_balanced.shape"
   ]
  },
  {
   "cell_type": "code",
   "execution_count": 439,
   "metadata": {},
   "outputs": [
    {
     "data": {
      "text/plain": [
       "(177,)"
      ]
     },
     "execution_count": 439,
     "metadata": {},
     "output_type": "execute_result"
    }
   ],
   "source": [
    "new_predictions.shape"
   ]
  },
  {
   "cell_type": "code",
   "execution_count": 438,
   "metadata": {},
   "outputs": [
    {
     "data": {
      "text/plain": [
       "(177, 8)"
      ]
     },
     "execution_count": 438,
     "metadata": {},
     "output_type": "execute_result"
    }
   ],
   "source": [
    "normalised_test_df.shape"
   ]
  },
  {
   "cell_type": "code",
   "execution_count": 442,
   "metadata": {},
   "outputs": [
    {
     "ename": "ValueError",
     "evalue": "could not convert string to float: '3A'",
     "output_type": "error",
     "traceback": [
      "\u001b[1;31m---------------------------------------------------------------------------\u001b[0m",
      "\u001b[1;31mValueError\u001b[0m                                Traceback (most recent call last)",
      "\u001b[1;32m<ipython-input-442-b3b7e1c60f6f>\u001b[0m in \u001b[0;36m<module>\u001b[1;34m\u001b[0m\n\u001b[0;32m      1\u001b[0m \u001b[1;31m#\u001b[0m\u001b[1;33m\u001b[0m\u001b[1;33m\u001b[0m\u001b[1;33m\u001b[0m\u001b[0m\n\u001b[1;32m----> 2\u001b[1;33m \u001b[0my_pred_proba\u001b[0m \u001b[1;33m=\u001b[0m \u001b[0mlog_reg\u001b[0m\u001b[1;33m.\u001b[0m\u001b[0mpredict_proba\u001b[0m\u001b[1;33m(\u001b[0m\u001b[0mnew_predictions\u001b[0m\u001b[1;33m)\u001b[0m\u001b[1;33m[\u001b[0m\u001b[1;33m:\u001b[0m\u001b[1;33m:\u001b[0m\u001b[1;33m,\u001b[0m\u001b[1;36m1\u001b[0m\u001b[1;33m]\u001b[0m\u001b[1;33m,\u001b[0m \u001b[0mpos_label\u001b[0m\u001b[1;33m=\u001b[0m\u001b[1;34m'2A'\u001b[0m\u001b[1;33m\u001b[0m\u001b[1;33m\u001b[0m\u001b[0m\n\u001b[0m\u001b[0;32m      3\u001b[0m \u001b[0mfpr\u001b[0m\u001b[1;33m,\u001b[0m \u001b[0mtpr\u001b[0m\u001b[1;33m,\u001b[0m \u001b[0m_\u001b[0m \u001b[1;33m=\u001b[0m \u001b[0mmetrics\u001b[0m\u001b[1;33m.\u001b[0m\u001b[0mroc_curve\u001b[0m\u001b[1;33m(\u001b[0m\u001b[0my_test\u001b[0m\u001b[1;33m,\u001b[0m  \u001b[0my_pred_proba\u001b[0m\u001b[1;33m)\u001b[0m\u001b[1;33m\u001b[0m\u001b[1;33m\u001b[0m\u001b[0m\n\u001b[0;32m      4\u001b[0m \u001b[0mauc\u001b[0m \u001b[1;33m=\u001b[0m \u001b[0mmetrics\u001b[0m\u001b[1;33m.\u001b[0m\u001b[0mroc_auc_score\u001b[0m\u001b[1;33m(\u001b[0m\u001b[0my_test\u001b[0m\u001b[1;33m,\u001b[0m \u001b[0my_pred_proba\u001b[0m\u001b[1;33m)\u001b[0m\u001b[1;33m\u001b[0m\u001b[1;33m\u001b[0m\u001b[0m\n\u001b[0;32m      5\u001b[0m \u001b[0mplt\u001b[0m\u001b[1;33m.\u001b[0m\u001b[0mplot\u001b[0m\u001b[1;33m(\u001b[0m\u001b[0mfpr\u001b[0m\u001b[1;33m,\u001b[0m\u001b[0mtpr\u001b[0m\u001b[1;33m,\u001b[0m\u001b[0mlabel\u001b[0m\u001b[1;33m=\u001b[0m\u001b[1;34m\"data 1, auc=\"\u001b[0m\u001b[1;33m+\u001b[0m\u001b[0mstr\u001b[0m\u001b[1;33m(\u001b[0m\u001b[0mauc\u001b[0m\u001b[1;33m)\u001b[0m\u001b[1;33m)\u001b[0m\u001b[1;33m\u001b[0m\u001b[1;33m\u001b[0m\u001b[0m\n",
      "\u001b[1;32mC:\\ProgramData\\Anaconda3\\lib\\site-packages\\sklearn\\linear_model\\_logistic.py\u001b[0m in \u001b[0;36mpredict_proba\u001b[1;34m(self, X)\u001b[0m\n\u001b[0;32m   1466\u001b[0m                                                 self.solver == 'liblinear')))\n\u001b[0;32m   1467\u001b[0m         \u001b[1;32mif\u001b[0m \u001b[0movr\u001b[0m\u001b[1;33m:\u001b[0m\u001b[1;33m\u001b[0m\u001b[1;33m\u001b[0m\u001b[0m\n\u001b[1;32m-> 1468\u001b[1;33m             \u001b[1;32mreturn\u001b[0m \u001b[0msuper\u001b[0m\u001b[1;33m(\u001b[0m\u001b[1;33m)\u001b[0m\u001b[1;33m.\u001b[0m\u001b[0m_predict_proba_lr\u001b[0m\u001b[1;33m(\u001b[0m\u001b[0mX\u001b[0m\u001b[1;33m)\u001b[0m\u001b[1;33m\u001b[0m\u001b[1;33m\u001b[0m\u001b[0m\n\u001b[0m\u001b[0;32m   1469\u001b[0m         \u001b[1;32melse\u001b[0m\u001b[1;33m:\u001b[0m\u001b[1;33m\u001b[0m\u001b[1;33m\u001b[0m\u001b[0m\n\u001b[0;32m   1470\u001b[0m             \u001b[0mdecision\u001b[0m \u001b[1;33m=\u001b[0m \u001b[0mself\u001b[0m\u001b[1;33m.\u001b[0m\u001b[0mdecision_function\u001b[0m\u001b[1;33m(\u001b[0m\u001b[0mX\u001b[0m\u001b[1;33m)\u001b[0m\u001b[1;33m\u001b[0m\u001b[1;33m\u001b[0m\u001b[0m\n",
      "\u001b[1;32mC:\\ProgramData\\Anaconda3\\lib\\site-packages\\sklearn\\linear_model\\_base.py\u001b[0m in \u001b[0;36m_predict_proba_lr\u001b[1;34m(self, X)\u001b[0m\n\u001b[0;32m    319\u001b[0m         \u001b[0mmulticlass\u001b[0m \u001b[1;32mis\u001b[0m \u001b[0mhandled\u001b[0m \u001b[0mby\u001b[0m \u001b[0mnormalizing\u001b[0m \u001b[0mthat\u001b[0m \u001b[0mover\u001b[0m \u001b[0mall\u001b[0m \u001b[0mclasses\u001b[0m\u001b[1;33m.\u001b[0m\u001b[1;33m\u001b[0m\u001b[1;33m\u001b[0m\u001b[0m\n\u001b[0;32m    320\u001b[0m         \"\"\"\n\u001b[1;32m--> 321\u001b[1;33m         \u001b[0mprob\u001b[0m \u001b[1;33m=\u001b[0m \u001b[0mself\u001b[0m\u001b[1;33m.\u001b[0m\u001b[0mdecision_function\u001b[0m\u001b[1;33m(\u001b[0m\u001b[0mX\u001b[0m\u001b[1;33m)\u001b[0m\u001b[1;33m\u001b[0m\u001b[1;33m\u001b[0m\u001b[0m\n\u001b[0m\u001b[0;32m    322\u001b[0m         \u001b[0mexpit\u001b[0m\u001b[1;33m(\u001b[0m\u001b[0mprob\u001b[0m\u001b[1;33m,\u001b[0m \u001b[0mout\u001b[0m\u001b[1;33m=\u001b[0m\u001b[0mprob\u001b[0m\u001b[1;33m)\u001b[0m\u001b[1;33m\u001b[0m\u001b[1;33m\u001b[0m\u001b[0m\n\u001b[0;32m    323\u001b[0m         \u001b[1;32mif\u001b[0m \u001b[0mprob\u001b[0m\u001b[1;33m.\u001b[0m\u001b[0mndim\u001b[0m \u001b[1;33m==\u001b[0m \u001b[1;36m1\u001b[0m\u001b[1;33m:\u001b[0m\u001b[1;33m\u001b[0m\u001b[1;33m\u001b[0m\u001b[0m\n",
      "\u001b[1;32mC:\\ProgramData\\Anaconda3\\lib\\site-packages\\sklearn\\linear_model\\_base.py\u001b[0m in \u001b[0;36mdecision_function\u001b[1;34m(self, X)\u001b[0m\n\u001b[0;32m    280\u001b[0m         \u001b[0mcheck_is_fitted\u001b[0m\u001b[1;33m(\u001b[0m\u001b[0mself\u001b[0m\u001b[1;33m)\u001b[0m\u001b[1;33m\u001b[0m\u001b[1;33m\u001b[0m\u001b[0m\n\u001b[0;32m    281\u001b[0m \u001b[1;33m\u001b[0m\u001b[0m\n\u001b[1;32m--> 282\u001b[1;33m         \u001b[0mX\u001b[0m \u001b[1;33m=\u001b[0m \u001b[0mcheck_array\u001b[0m\u001b[1;33m(\u001b[0m\u001b[0mX\u001b[0m\u001b[1;33m,\u001b[0m \u001b[0maccept_sparse\u001b[0m\u001b[1;33m=\u001b[0m\u001b[1;34m'csr'\u001b[0m\u001b[1;33m)\u001b[0m\u001b[1;33m\u001b[0m\u001b[1;33m\u001b[0m\u001b[0m\n\u001b[0m\u001b[0;32m    283\u001b[0m \u001b[1;33m\u001b[0m\u001b[0m\n\u001b[0;32m    284\u001b[0m         \u001b[0mn_features\u001b[0m \u001b[1;33m=\u001b[0m \u001b[0mself\u001b[0m\u001b[1;33m.\u001b[0m\u001b[0mcoef_\u001b[0m\u001b[1;33m.\u001b[0m\u001b[0mshape\u001b[0m\u001b[1;33m[\u001b[0m\u001b[1;36m1\u001b[0m\u001b[1;33m]\u001b[0m\u001b[1;33m\u001b[0m\u001b[1;33m\u001b[0m\u001b[0m\n",
      "\u001b[1;32mC:\\ProgramData\\Anaconda3\\lib\\site-packages\\sklearn\\utils\\validation.py\u001b[0m in \u001b[0;36minner_f\u001b[1;34m(*args, **kwargs)\u001b[0m\n\u001b[0;32m     70\u001b[0m                           FutureWarning)\n\u001b[0;32m     71\u001b[0m         \u001b[0mkwargs\u001b[0m\u001b[1;33m.\u001b[0m\u001b[0mupdate\u001b[0m\u001b[1;33m(\u001b[0m\u001b[1;33m{\u001b[0m\u001b[0mk\u001b[0m\u001b[1;33m:\u001b[0m \u001b[0marg\u001b[0m \u001b[1;32mfor\u001b[0m \u001b[0mk\u001b[0m\u001b[1;33m,\u001b[0m \u001b[0marg\u001b[0m \u001b[1;32min\u001b[0m \u001b[0mzip\u001b[0m\u001b[1;33m(\u001b[0m\u001b[0msig\u001b[0m\u001b[1;33m.\u001b[0m\u001b[0mparameters\u001b[0m\u001b[1;33m,\u001b[0m \u001b[0margs\u001b[0m\u001b[1;33m)\u001b[0m\u001b[1;33m}\u001b[0m\u001b[1;33m)\u001b[0m\u001b[1;33m\u001b[0m\u001b[1;33m\u001b[0m\u001b[0m\n\u001b[1;32m---> 72\u001b[1;33m         \u001b[1;32mreturn\u001b[0m \u001b[0mf\u001b[0m\u001b[1;33m(\u001b[0m\u001b[1;33m**\u001b[0m\u001b[0mkwargs\u001b[0m\u001b[1;33m)\u001b[0m\u001b[1;33m\u001b[0m\u001b[1;33m\u001b[0m\u001b[0m\n\u001b[0m\u001b[0;32m     73\u001b[0m     \u001b[1;32mreturn\u001b[0m \u001b[0minner_f\u001b[0m\u001b[1;33m\u001b[0m\u001b[1;33m\u001b[0m\u001b[0m\n\u001b[0;32m     74\u001b[0m \u001b[1;33m\u001b[0m\u001b[0m\n",
      "\u001b[1;32mC:\\ProgramData\\Anaconda3\\lib\\site-packages\\sklearn\\utils\\validation.py\u001b[0m in \u001b[0;36mcheck_array\u001b[1;34m(array, accept_sparse, accept_large_sparse, dtype, order, copy, force_all_finite, ensure_2d, allow_nd, ensure_min_samples, ensure_min_features, estimator)\u001b[0m\n\u001b[0;32m    596\u001b[0m                     \u001b[0marray\u001b[0m \u001b[1;33m=\u001b[0m \u001b[0marray\u001b[0m\u001b[1;33m.\u001b[0m\u001b[0mastype\u001b[0m\u001b[1;33m(\u001b[0m\u001b[0mdtype\u001b[0m\u001b[1;33m,\u001b[0m \u001b[0mcasting\u001b[0m\u001b[1;33m=\u001b[0m\u001b[1;34m\"unsafe\"\u001b[0m\u001b[1;33m,\u001b[0m \u001b[0mcopy\u001b[0m\u001b[1;33m=\u001b[0m\u001b[1;32mFalse\u001b[0m\u001b[1;33m)\u001b[0m\u001b[1;33m\u001b[0m\u001b[1;33m\u001b[0m\u001b[0m\n\u001b[0;32m    597\u001b[0m                 \u001b[1;32melse\u001b[0m\u001b[1;33m:\u001b[0m\u001b[1;33m\u001b[0m\u001b[1;33m\u001b[0m\u001b[0m\n\u001b[1;32m--> 598\u001b[1;33m                     \u001b[0marray\u001b[0m \u001b[1;33m=\u001b[0m \u001b[0mnp\u001b[0m\u001b[1;33m.\u001b[0m\u001b[0masarray\u001b[0m\u001b[1;33m(\u001b[0m\u001b[0marray\u001b[0m\u001b[1;33m,\u001b[0m \u001b[0morder\u001b[0m\u001b[1;33m=\u001b[0m\u001b[0morder\u001b[0m\u001b[1;33m,\u001b[0m \u001b[0mdtype\u001b[0m\u001b[1;33m=\u001b[0m\u001b[0mdtype\u001b[0m\u001b[1;33m)\u001b[0m\u001b[1;33m\u001b[0m\u001b[1;33m\u001b[0m\u001b[0m\n\u001b[0m\u001b[0;32m    599\u001b[0m             \u001b[1;32mexcept\u001b[0m \u001b[0mComplexWarning\u001b[0m\u001b[1;33m:\u001b[0m\u001b[1;33m\u001b[0m\u001b[1;33m\u001b[0m\u001b[0m\n\u001b[0;32m    600\u001b[0m                 raise ValueError(\"Complex data not supported\\n\"\n",
      "\u001b[1;32mC:\\ProgramData\\Anaconda3\\lib\\site-packages\\numpy\\core\\_asarray.py\u001b[0m in \u001b[0;36masarray\u001b[1;34m(a, dtype, order)\u001b[0m\n\u001b[0;32m     83\u001b[0m \u001b[1;33m\u001b[0m\u001b[0m\n\u001b[0;32m     84\u001b[0m     \"\"\"\n\u001b[1;32m---> 85\u001b[1;33m     \u001b[1;32mreturn\u001b[0m \u001b[0marray\u001b[0m\u001b[1;33m(\u001b[0m\u001b[0ma\u001b[0m\u001b[1;33m,\u001b[0m \u001b[0mdtype\u001b[0m\u001b[1;33m,\u001b[0m \u001b[0mcopy\u001b[0m\u001b[1;33m=\u001b[0m\u001b[1;32mFalse\u001b[0m\u001b[1;33m,\u001b[0m \u001b[0morder\u001b[0m\u001b[1;33m=\u001b[0m\u001b[0morder\u001b[0m\u001b[1;33m)\u001b[0m\u001b[1;33m\u001b[0m\u001b[1;33m\u001b[0m\u001b[0m\n\u001b[0m\u001b[0;32m     86\u001b[0m \u001b[1;33m\u001b[0m\u001b[0m\n\u001b[0;32m     87\u001b[0m \u001b[1;33m\u001b[0m\u001b[0m\n",
      "\u001b[1;31mValueError\u001b[0m: could not convert string to float: '3A'"
     ]
    }
   ],
   "source": [
    "#\n",
    "y_pred_proba = log_reg.predict_proba(new_predictions)[::,1], pos_label='2A'\n",
    "fpr, tpr, _ = metrics.roc_curve(y_test,  y_pred_proba)\n",
    "auc = metrics.roc_auc_score(y_test, y_pred_proba)\n",
    "plt.plot(fpr,tpr,label=\"data 1, auc=\"+str(auc))\n",
    "plt.legend(loc=4)\n",
    "plt.show()"
   ]
  },
  {
   "cell_type": "code",
   "execution_count": 443,
   "metadata": {},
   "outputs": [
    {
     "name": "stdout",
     "output_type": "stream",
     "text": [
      "Accuracy: 50.0\n"
     ]
    }
   ],
   "source": [
    "#Accuracy.py  It is a commonly used metric suitable when the target classes are not imbalanced.\n",
    "#it is important to not use only the accuracy metric because it does not provide enough information about the model.\n",
    "accuracy = accuracy_score(y_true=y_test, y_pred=new_predictions)\n",
    "print('Accuracy: {}'.format(round(accuracy*100), 2)) #prints 53.0\n"
   ]
  },
  {
   "cell_type": "code",
   "execution_count": 444,
   "metadata": {},
   "outputs": [
    {
     "data": {
      "text/plain": [
       "(177,)"
      ]
     },
     "execution_count": 444,
     "metadata": {},
     "output_type": "execute_result"
    }
   ],
   "source": [
    "y_test.shape"
   ]
  },
  {
   "cell_type": "code",
   "execution_count": 445,
   "metadata": {},
   "outputs": [
    {
     "data": {
      "text/plain": [
       "(177,)"
      ]
     },
     "execution_count": 445,
     "metadata": {},
     "output_type": "execute_result"
    }
   ],
   "source": [
    "new_predictions.shape"
   ]
  },
  {
   "cell_type": "code",
   "execution_count": 446,
   "metadata": {},
   "outputs": [],
   "source": [
    "#Cross-validation and accuracy.py applied to avoid overfitting and enable generalization.\n",
    "from sklearn.model_selection import cross_val_score\n",
    "scores = cross_val_score(log_reg, normalised_train_df, y_balanced, cv=5, scoring='f1_macro')"
   ]
  },
  {
   "cell_type": "code",
   "execution_count": 447,
   "metadata": {},
   "outputs": [
    {
     "data": {
      "text/plain": [
       "array([0.44124424, 0.470626  , 0.52957265, 0.4965035 , 0.5826087 ])"
      ]
     },
     "execution_count": 447,
     "metadata": {},
     "output_type": "execute_result"
    }
   ],
   "source": [
    "scores       #prints array([0.55594592, 0.4733312 , 0.55651249, 0.5245098 , 0.58315241])"
   ]
  },
  {
   "cell_type": "code",
   "execution_count": 448,
   "metadata": {},
   "outputs": [
    {
     "name": "stdout",
     "output_type": "stream",
     "text": [
      "F1: 50.0\n"
     ]
    }
   ],
   "source": [
    "#F1-Score.py\n",
    "f1 = f1_score(y_true=y_test, y_pred=new_predictions, pos_label='2A')\n",
    "print('F1: {}'.format(round(f1*100), 2)) #prints 45.0"
   ]
  },
  {
   "cell_type": "code",
   "execution_count": 449,
   "metadata": {},
   "outputs": [],
   "source": [
    "model = LogisticRegression().fit(x_train, y_train)\n",
    "  #save result to list\n",
    "f1_scores.append(f1_score(y_true=y_test, y_pred=model.predict(x_test),pos_label='2A')*100)"
   ]
  },
  {
   "cell_type": "code",
   "execution_count": 450,
   "metadata": {},
   "outputs": [
    {
     "data": {
      "text/plain": [
       "(177,)"
      ]
     },
     "execution_count": 450,
     "metadata": {},
     "output_type": "execute_result"
    }
   ],
   "source": [
    "y_test.shape"
   ]
  },
  {
   "cell_type": "code",
   "execution_count": 452,
   "metadata": {},
   "outputs": [
    {
     "data": {
      "text/plain": [
       "(177,)"
      ]
     },
     "execution_count": 452,
     "metadata": {},
     "output_type": "execute_result"
    }
   ],
   "source": [
    "new_predictions.shape"
   ]
  },
  {
   "cell_type": "markdown",
   "metadata": {},
   "source": [
    "Accuracy, precision, recall, F1-score and many others are evaluation metrics used in measuring the performance of classification models."
   ]
  },
  {
   "cell_type": "code",
   "execution_count": 453,
   "metadata": {},
   "outputs": [
    {
     "name": "stdout",
     "output_type": "stream",
     "text": [
      "Precision: 40.0\n"
     ]
    }
   ],
   "source": [
    "#Precision.py\n",
    "#Precision: Precision is about being precise, i.e., how accurate your model is. \n",
    "#In other words, you can say, when a model makes a prediction, how often it is correct.\n",
    "#In your prediction case, when your Logistic Regression model predicted patients are going \n",
    "#to suffer from diabetes, that patients have 76% of the time.\n",
    "\n",
    "precision = precision_score(y_true=y_test, y_pred=new_predictions, pos_label='2A')\n",
    "\n",
    "print('Precision: {}'.format(round(precision*100), 2)) #prints 41.0"
   ]
  },
  {
   "cell_type": "code",
   "execution_count": 454,
   "metadata": {},
   "outputs": [
    {
     "name": "stdout",
     "output_type": "stream",
     "text": [
      "Recall: 65.0\n"
     ]
    }
   ],
   "source": [
    "# Recall.py\n",
    "#Recall: If there are patients who have diabetes in the test set and your \n",
    "#Logistic Regression model can identify it 58% of the time.\n",
    "\n",
    "recall = recall_score(y_true=y_test, y_pred=new_predictions, pos_label='2A')\n",
    "print('Recall: {}'.format(round(recall*100), 2)) #prints 51.0 "
   ]
  },
  {
   "cell_type": "code",
   "execution_count": 455,
   "metadata": {},
   "outputs": [],
   "source": [
    "# K-Fold Cross Validation.py\n",
    "from sklearn.model_selection import KFold\n",
    "kf = KFold(n_splits=10)\n",
    "kf.split(normalised_train_df) \n",
    "f1_scores = []\n",
    "#run for every split\n",
    "for train_index, test_index in kf.split(normalised_train_df):\n",
    "    \n",
    "    x_train, x_test = normalised_train_df.iloc[train_index],normalised_train_df.iloc[test_index]\n",
    "    \n",
    "    y_train, y_test = y_balanced[train_index],y_balanced[test_index]\n",
    "    model = LogisticRegression().fit(x_train, y_train)\n",
    "  #save result to list\n",
    "    f1_scores.append(f1_score(y_true=y_test, y_pred=model.predict(x_test), \n",
    "                   pos_label='2A')*100)"
   ]
  },
  {
   "cell_type": "code",
   "execution_count": 456,
   "metadata": {},
   "outputs": [
    {
     "data": {
      "text/plain": [
       "[46.42857142857142,\n",
       " 52.0,\n",
       " 50.909090909090914,\n",
       " 50.84745762711865,\n",
       " 52.83018867924528,\n",
       " 54.23728813559322,\n",
       " 56.666666666666664,\n",
       " 50.847457627118644,\n",
       " 24.390243902439025,\n",
       " 0.0]"
      ]
     },
     "execution_count": 456,
     "metadata": {},
     "output_type": "execute_result"
    }
   ],
   "source": [
    "f1_scores"
   ]
  },
  {
   "cell_type": "code",
   "execution_count": 197,
   "metadata": {},
   "outputs": [],
   "source": [
    "#Leave One Out Cross Validation (LOOCV).py\n",
    "from sklearn.model_selection import LeaveOneOut\n",
    "loo = LeaveOneOut()\n",
    "scores = cross_val_score(LogisticRegression(), normalised_train_df, y_balanced, cv=loo,\n",
    "                         scoring='f1_macro')\n",
    "average_score = scores.mean() * 100"
   ]
  },
  {
   "cell_type": "code",
   "execution_count": 457,
   "metadata": {},
   "outputs": [],
   "source": [
    "#Stratified K-Fold Cross Validation.py  avoid imbalance and biased results\n",
    "from sklearn.model_selection import StratifiedKFold\n",
    "skf = StratifiedKFold(n_splits=10, shuffle=True, random_state=1)\n",
    "f1_scores = []\n",
    "#run for every split\n",
    "for train_index, test_index in skf.split(normalised_train_df, y_balanced):\n",
    "    \n",
    "    x_train, x_test = np.array(normalised_train_df)[train_index],np.array(normalised_train_df)[test_index]\n",
    "    y_train, y_test  = y_balanced[train_index],y_balanced[test_index]\n",
    "    model = LogisticRegression().fit(x_train, y_train)\n",
    "  #save result to list\n",
    "    f1_scores.append(f1_score(y_true=y_test, y_pred=model.predict(x_test), pos_label='2A')*100)"
   ]
  },
  {
   "cell_type": "code",
   "execution_count": 458,
   "metadata": {},
   "outputs": [
    {
     "data": {
      "text/plain": [
       "[43.13725490196078,\n",
       " 46.15384615384615,\n",
       " 55.55555555555556,\n",
       " 35.55555555555556,\n",
       " 67.79661016949152,\n",
       " 63.1578947368421,\n",
       " 52.830188679245296,\n",
       " 70.17543859649123,\n",
       " 55.55555555555556,\n",
       " 58.620689655172406]"
      ]
     },
     "execution_count": 458,
     "metadata": {},
     "output_type": "execute_result"
    }
   ],
   "source": [
    " f1_scores"
   ]
  },
  {
   "cell_type": "code",
   "execution_count": 463,
   "metadata": {},
   "outputs": [],
   "source": [
    "def Average(lst): \n",
    "    return sum(lst) / len(lst) "
   ]
  },
  {
   "cell_type": "code",
   "execution_count": 464,
   "metadata": {},
   "outputs": [
    {
     "data": {
      "text/plain": [
       "54.85385895597161"
      ]
     },
     "execution_count": 464,
     "metadata": {},
     "output_type": "execute_result"
    }
   ],
   "source": [
    "Average(f1_scores)"
   ]
  },
  {
   "cell_type": "markdown",
   "metadata": {},
   "source": [
    "Multilabel and Multiclass classification\n",
    "a multiclass classification task will only give a single class as the result. \n",
    "In contrast, multilabel classification classifies an instance into a set of target label\n",
    "The Sigmoid and the Softmax functions.\n",
    "It is used for multiclass classification because it can obtain the probabilities for various classes\n",
    "the sum of the outputs of the softmax must be 1, this is not the same for the sigmoid function.\n"
   ]
  },
  {
   "cell_type": "code",
   "execution_count": null,
   "metadata": {},
   "outputs": [],
   "source": [
    "#Tree-Based Methods and The Support Vector Machine.py\n",
    "#Support Vector Machine (SVM)  is a supervised machine learning algorithm that is used\n",
    "#to solve both classification and regression tasks.\n",
    "\n",
    "from sklearn.tree import DecisionTreeClassifier\n",
    "\n",
    "dec_tree = DecisionTreeClassifier()\n",
    "dec_tree.fit(normalised_train_df, y_balanced)"
   ]
  },
  {
   "cell_type": "markdown",
   "metadata": {},
   "source": [
    "Tree-Based Methods and The Support Vector Machine it can be used to\n",
    "classify a non-linear dataset by transforming the dataset to a higher dimensional feature\n",
    "space where it can be linearly separable. This is done using the kernel trick such that a\n",
    "kernel function is applied on each data point to map to a higher dimensional spa"
   ]
  },
  {
   "cell_type": "code",
   "execution_count": null,
   "metadata": {},
   "outputs": [],
   "source": [
    "Maximum Likelihood Estimation Vs. Least Square Method"
   ]
  }
 ],
 "metadata": {
  "kernelspec": {
   "display_name": "Python 3",
   "language": "python",
   "name": "python3"
  },
  "language_info": {
   "codemirror_mode": {
    "name": "ipython",
    "version": 3
   },
   "file_extension": ".py",
   "mimetype": "text/x-python",
   "name": "python",
   "nbconvert_exporter": "python",
   "pygments_lexer": "ipython3",
   "version": "3.7.6"
  }
 },
 "nbformat": 4,
 "nbformat_minor": 4
}
